{
 "cells": [
  {
   "cell_type": "code",
   "execution_count": 1,
   "metadata": {
    "execution": {
     "iopub.execute_input": "2025-03-29T14:19:33.059631Z",
     "iopub.status.busy": "2025-03-29T14:19:33.059631Z",
     "iopub.status.idle": "2025-03-29T14:19:33.075870Z",
     "shell.execute_reply": "2025-03-29T14:19:33.075870Z",
     "shell.execute_reply.started": "2025-03-29T14:19:33.059631Z"
    },
    "id": "3MeKai5Xj6eX"
   },
   "outputs": [],
   "source": [
    "import numpy as np"
   ]
  },
  {
   "cell_type": "markdown",
   "metadata": {
    "id": "wwlFrG-Tj6eY"
   },
   "source": [
    "**Module** is an abstract class which defines fundamental methods necessary for a training a neural network. You do not need to change anything here, just read the comments."
   ]
  },
  {
   "cell_type": "code",
   "execution_count": 2,
   "metadata": {
    "execution": {
     "iopub.execute_input": "2025-03-29T14:19:36.048397Z",
     "iopub.status.busy": "2025-03-29T14:19:36.048397Z",
     "iopub.status.idle": "2025-03-29T14:19:36.110713Z",
     "shell.execute_reply": "2025-03-29T14:19:36.110713Z",
     "shell.execute_reply.started": "2025-03-29T14:19:36.048397Z"
    },
    "id": "W8BLmtZ3j6eZ"
   },
   "outputs": [],
   "source": [
    "class Module(object):\n",
    "    \"\"\"\n",
    "    Basically, you can think of a module as of a something (black box)\n",
    "    which can process `input` data and produce `ouput` data.\n",
    "    This is like applying a function which is called `forward`:\n",
    "\n",
    "        output = module.forward(input)\n",
    "\n",
    "    The module should be able to perform a backward pass: to differentiate the `forward` function.\n",
    "    More, it should be able to differentiate it if is a part of chain (chain rule).\n",
    "    The latter implies there is a gradient from previous step of a chain rule.\n",
    "\n",
    "        gradInput = module.backward(input, gradOutput)\n",
    "    \"\"\"\n",
    "    def __init__ (self):\n",
    "        self.output = None\n",
    "        self.gradInput = None\n",
    "        self.training = True\n",
    "\n",
    "    def forward(self, input):\n",
    "        \"\"\"\n",
    "        Takes an input object, and computes the corresponding output of the module.\n",
    "        \"\"\"\n",
    "        return self.updateOutput(input)\n",
    "\n",
    "    def backward(self,input, gradOutput):\n",
    "        \"\"\"\n",
    "        Performs a backpropagation step through the module, with respect to the given input.\n",
    "\n",
    "        This includes\n",
    "         - computing a gradient w.r.t. `input` (is needed for further backprop),\n",
    "         - computing a gradient w.r.t. parameters (to update parameters while optimizing).\n",
    "        \"\"\"\n",
    "        self.updateGradInput(input, gradOutput)\n",
    "        self.accGradParameters(input, gradOutput)\n",
    "        return self.gradInput\n",
    "\n",
    "\n",
    "    def updateOutput(self, input):\n",
    "        \"\"\"\n",
    "        Computes the output using the current parameter set of the class and input.\n",
    "        This function returns the result which is stored in the `output` field.\n",
    "\n",
    "        Make sure to both store the data in `output` field and return it.\n",
    "        \"\"\"\n",
    "\n",
    "        # The easiest case:\n",
    "\n",
    "        # self.output = input\n",
    "        # return self.output\n",
    "\n",
    "        pass\n",
    "\n",
    "    def updateGradInput(self, input, gradOutput):\n",
    "        \"\"\"\n",
    "        Computing the gradient of the module with respect to its own input.\n",
    "        This is returned in `gradInput`. Also, the `gradInput` state variable is updated accordingly.\n",
    "\n",
    "        The shape of `gradInput` is always the same as the shape of `input`.\n",
    "\n",
    "        Make sure to both store the gradients in `gradInput` field and return it.\n",
    "        \"\"\"\n",
    "\n",
    "        # The easiest case:\n",
    "\n",
    "        # self.gradInput = gradOutput\n",
    "        # return self.gradInput\n",
    "\n",
    "        pass\n",
    "\n",
    "    def accGradParameters(self, input, gradOutput):\n",
    "        \"\"\"\n",
    "        Computing the gradient of the module with respect to its own parameters.\n",
    "        No need to override if module has no parameters (e.g. ReLU).\n",
    "        \"\"\"\n",
    "        pass\n",
    "\n",
    "    def zeroGradParameters(self):\n",
    "        \"\"\"\n",
    "        Zeroes `gradParams` variable if the module has params.\n",
    "        \"\"\"\n",
    "        pass\n",
    "\n",
    "    def getParameters(self):\n",
    "        \"\"\"\n",
    "        Returns a list with its parameters.\n",
    "        If the module does not have parameters return empty list.\n",
    "        \"\"\"\n",
    "        return []\n",
    "\n",
    "    def getGradParameters(self):\n",
    "        \"\"\"\n",
    "        Returns a list with gradients with respect to its parameters.\n",
    "        If the module does not have parameters return empty list.\n",
    "        \"\"\"\n",
    "        return []\n",
    "\n",
    "    def train(self):\n",
    "        \"\"\"\n",
    "        Sets training mode for the module.\n",
    "        Training and testing behaviour differs for Dropout, BatchNorm.\n",
    "        \"\"\"\n",
    "        self.training = True\n",
    "\n",
    "    def evaluate(self):\n",
    "        \"\"\"\n",
    "        Sets evaluation mode for the module.\n",
    "        Training and testing behaviour differs for Dropout, BatchNorm.\n",
    "        \"\"\"\n",
    "        self.training = False\n",
    "\n",
    "    def __repr__(self):\n",
    "        \"\"\"\n",
    "        Pretty printing. Should be overrided in every module if you want\n",
    "        to have readable description.\n",
    "        \"\"\"\n",
    "        return \"Module\""
   ]
  },
  {
   "cell_type": "markdown",
   "metadata": {
    "id": "mKRkIjT8j6eZ"
   },
   "source": [
    "# Sequential container"
   ]
  },
  {
   "cell_type": "markdown",
   "metadata": {
    "id": "Cb98PPpJj6ea"
   },
   "source": [
    "**Define** a forward and backward pass procedures."
   ]
  },
  {
   "cell_type": "code",
   "execution_count": 35,
   "metadata": {
    "execution": {
     "iopub.execute_input": "2025-03-30T16:05:15.819441Z",
     "iopub.status.busy": "2025-03-30T16:05:15.819441Z",
     "iopub.status.idle": "2025-03-30T16:05:15.835907Z",
     "shell.execute_reply": "2025-03-30T16:05:15.834908Z",
     "shell.execute_reply.started": "2025-03-30T16:05:15.819441Z"
    },
    "id": "7y2lav4dj6ea"
   },
   "outputs": [],
   "source": [
    "class Sequential(Module):\n",
    "    \"\"\"\n",
    "         This class implements a container, which processes `input` data sequentially.\n",
    "\n",
    "         `input` is processed by each module (layer) in self.modules consecutively.\n",
    "         The resulting array is called `output`.\n",
    "    \"\"\"\n",
    "\n",
    "    def __init__ (self):\n",
    "        super(Sequential, self).__init__() \n",
    "        self.modules = []\n",
    "\n",
    "    def add(self, module):\n",
    "        \"\"\"\n",
    "        Adds a module to the container.\n",
    "        \"\"\"\n",
    "        self.modules.append(module)\n",
    "\n",
    "    def updateGradInput(self, input, gradOutput):\n",
    "        current_grad = gradOutput\n",
    "    \n",
    "        for i in reversed(range(len(self.modules))):\n",
    "            prev_output = self.intermediate_outputs[i]\n",
    "            current_grad = self.modules[i].updateGradInput(prev_output, current_grad)\n",
    "            if hasattr(self.modules[i], \"accGradParameters\"):\n",
    "                self.modules[i].accGradParameters(prev_output, current_grad)\n",
    "        self.gradInput = current_grad\n",
    "        return self.gradInput\n",
    "\n",
    "    def updateOutput(self, input):\n",
    "        \"\"\"\n",
    "        Basic workflow of FORWARD PASS:\n",
    "\n",
    "            y_0    = module[0].forward(input)\n",
    "            y_1    = module[1].forward(y_0)\n",
    "            ...\n",
    "            output = module[n-1].forward(y_{n-2})\n",
    "\n",
    "\n",
    "        Just write a little loop.\n",
    "        \"\"\"\n",
    "        self.intermediate_outputs = [input]\n",
    "        output = input\n",
    "        for module in self.modules:\n",
    "            output = module.updateOutput(output)\n",
    "            self.intermediate_outputs.append(output)\n",
    "        self.output = output\n",
    "        return self.output\n",
    "        \n",
    "    \n",
    "\n",
    "    def backward(self, input, gradOutput):\n",
    "        \"\"\"\n",
    "        Workflow of BACKWARD PASS:\n",
    "\n",
    "            g_{n-1} = module[n-1].backward(y_{n-2}, gradOutput)\n",
    "            g_{n-2} = module[n-2].backward(y_{n-3}, g_{n-1})\n",
    "            ...\n",
    "            g_1 = module[1].backward(y_0, g_2)\n",
    "            gradInput = module[0].backward(input, g_1)\n",
    "\n",
    "\n",
    "        !!!\n",
    "\n",
    "        To ech module you need to provide the input, module saw while forward pass,\n",
    "        it is used while computing gradients.\n",
    "        Make sure that the input for `i-th` layer the output of `module[i]` (just the same input as in forward pass)\n",
    "        and NOT `input` to this Sequential module.\n",
    "\n",
    "        !!!\n",
    "\n",
    "        \"\"\"\n",
    "        return self.updateGradInput(input, gradOutput)\n",
    "\n",
    "    def zeroGradParameters(self):\n",
    "        for module in self.modules:\n",
    "            module.zeroGradParameters()\n",
    "\n",
    "    def getParameters(self):\n",
    "        \"\"\"\n",
    "        Should gather all parameters in a list.\n",
    "        \"\"\"\n",
    "        return [x.getParameters() for x in self.modules]\n",
    "\n",
    "    def getGradParameters(self):\n",
    "        \"\"\"\n",
    "        Should gather all gradients w.r.t parameters in a list.\n",
    "        \"\"\"\n",
    "        return [x.getGradParameters() for x in self.modules]\n",
    "\n",
    "    def __repr__(self):\n",
    "        string = \"\".join([str(x) + '\\n' for x in self.modules])\n",
    "        return string\n",
    "\n",
    "    def __getitem__(self,x):\n",
    "        return self.modules.__getitem__(x)\n",
    "\n",
    "    def train(self):\n",
    "        \"\"\"\n",
    "        Propagates training parameter through all modules\n",
    "        \"\"\"\n",
    "        self.training = True\n",
    "        for module in self.modules:\n",
    "            module.train()\n",
    "\n",
    "    def evaluate(self):\n",
    "        \"\"\"\n",
    "        Propagates training parameter through all modules\n",
    "        \"\"\"\n",
    "        self.training = False\n",
    "        for module in self.modules:\n",
    "            module.evaluate()"
   ]
  },
  {
   "cell_type": "markdown",
   "metadata": {
    "id": "zfXdYfO4j6ea"
   },
   "source": [
    "# Layers"
   ]
  },
  {
   "cell_type": "markdown",
   "metadata": {
    "id": "ZuwvBkuNj6ea"
   },
   "source": [
    "## 1 (0.2). Linear transform layer\n",
    "Also known as dense layer, fully-connected layer, FC-layer, InnerProductLayer (in caffe), affine transform\n",
    "- input:   **`batch_size x n_feats1`**\n",
    "- output: **`batch_size x n_feats2`**"
   ]
  },
  {
   "cell_type": "code",
   "execution_count": 4,
   "metadata": {
    "execution": {
     "iopub.execute_input": "2025-03-29T14:21:25.550186Z",
     "iopub.status.busy": "2025-03-29T14:21:25.550186Z",
     "iopub.status.idle": "2025-03-29T14:21:25.580888Z",
     "shell.execute_reply": "2025-03-29T14:21:25.579309Z",
     "shell.execute_reply.started": "2025-03-29T14:21:25.550186Z"
    },
    "id": "D0uoyqkpj6ea"
   },
   "outputs": [],
   "source": [
    "class Linear(Module):\n",
    "    \"\"\"\n",
    "    A module which applies a linear transformation\n",
    "    A common name is fully-connected layer, InnerProductLayer in caffe.\n",
    "\n",
    "    The module should work with 2D input of shape (n_samples, n_feature).\n",
    "    \"\"\"\n",
    "    def __init__(self, n_in, n_out):\n",
    "        super(Linear, self).__init__()\n",
    "\n",
    "        # This is a nice initialization\n",
    "        stdv = 1./np.sqrt(n_in)\n",
    "        self.W = np.random.uniform(-stdv, stdv, size = (n_out, n_in))\n",
    "        self.b = np.random.uniform(-stdv, stdv, size = n_out)\n",
    "\n",
    "        self.gradW = np.zeros_like(self.W)\n",
    "        self.gradb = np.zeros_like(self.b)\n",
    "\n",
    "    def updateOutput(self, input):\n",
    "        # Your code goes here. ################################################\n",
    "        self.output = input @ self.W.T + self.b\n",
    "        return self.output\n",
    "\n",
    "    def updateGradInput(self, input, gradOutput):\n",
    "        # Your code goes here. ################################################\n",
    "        self.gradInput = gradOutput @ self.W\n",
    "        return self.gradInput\n",
    "\n",
    "    def accGradParameters(self, input, gradOutput):\n",
    "        # Your code goes here. ################################################\n",
    "        self.gradW = gradOutput.T @ input\n",
    "        self.gradb = np.sum(gradOutput, axis=0)\n",
    "        pass\n",
    "\n",
    "    def zeroGradParameters(self):\n",
    "        self.gradW.fill(0)\n",
    "        self.gradb.fill(0)\n",
    "\n",
    "    def getParameters(self):\n",
    "        return [self.W, self.b]\n",
    "\n",
    "    def getGradParameters(self):\n",
    "        return [self.gradW, self.gradb]\n",
    "\n",
    "    def __repr__(self):\n",
    "        s = self.W.shape\n",
    "        q = 'Linear %d -> %d' %(s[1],s[0])\n",
    "        return q"
   ]
  },
  {
   "cell_type": "markdown",
   "metadata": {
    "id": "tNOnHXZJj6eb"
   },
   "source": [
    "## 2. (0.2) SoftMax\n",
    "- input:   **`batch_size x n_feats`**\n",
    "- output: **`batch_size x n_feats`**\n",
    "\n",
    "$\\text{softmax}(x)_i = \\frac{\\exp x_i} {\\sum_j \\exp x_j}$\n",
    "\n",
    "Recall that $\\text{softmax}(x) == \\text{softmax}(x - \\text{const})$. It makes possible to avoid computing exp() from large argument."
   ]
  },
  {
   "cell_type": "code",
   "execution_count": 29,
   "metadata": {
    "execution": {
     "iopub.execute_input": "2025-03-30T15:47:04.794709Z",
     "iopub.status.busy": "2025-03-30T15:47:04.794709Z",
     "iopub.status.idle": "2025-03-30T15:47:04.824051Z",
     "shell.execute_reply": "2025-03-30T15:47:04.822337Z",
     "shell.execute_reply.started": "2025-03-30T15:47:04.794709Z"
    },
    "id": "VIValI0hj6eb"
   },
   "outputs": [],
   "source": [
    "class SoftMax(Module):\n",
    "    def __init__(self):\n",
    "         super(SoftMax, self).__init__()\n",
    "\n",
    "    def updateOutput(self, input):\n",
    "        # start with normalization for numerical stability\n",
    "        self.output = np.subtract(input, input.max(axis=1, keepdims=True))\n",
    "        \n",
    "        # softmax\n",
    "        exp = np.exp(self.output)\n",
    "        self.output = exp / np.sum(exp, axis=1, keepdims=True)\n",
    "        \n",
    "        return self.output\n",
    "\n",
    "    def updateGradInput(self, input, gradOutput):\n",
    "        # Вычисление градиента softmax\n",
    "        batch_size = input.shape[0]\n",
    "        num_classes = input.shape[1]\n",
    "        self.gradInput = np.zeros_like(input)\n",
    "        \n",
    "        for i in range(batch_size):\n",
    "            s = self.output[i].reshape(-1, 1)  # -1 означает \"автоматически определить размер\" (C, 1)\n",
    "            jacobian = np.diagflat(s) - np.dot(s, s.T)  # Матрица Якоби (C, C)\n",
    "            self.gradInput[i] = np.dot(jacobian, gradOutput[i]) \n",
    "        \n",
    "        return self.gradInput\n",
    "\n",
    "    def __repr__(self):\n",
    "        return \"SoftMax\""
   ]
  },
  {
   "cell_type": "markdown",
   "metadata": {
    "id": "Cy3DJjynj6eb"
   },
   "source": [
    "## 3. (0.2) LogSoftMax\n",
    "- input:   **`batch_size x n_feats`**\n",
    "- output: **`batch_size x n_feats`**\n",
    "\n",
    "$\\text{logsoftmax}(x)_i = \\log\\text{softmax}(x)_i = x_i - \\log {\\sum_j \\exp x_j}$\n",
    "\n",
    "The main goal of this layer is to be used in computation of log-likelihood loss."
   ]
  },
  {
   "cell_type": "code",
   "execution_count": 6,
   "metadata": {
    "execution": {
     "iopub.execute_input": "2025-03-29T14:23:15.166046Z",
     "iopub.status.busy": "2025-03-29T14:23:15.166046Z",
     "iopub.status.idle": "2025-03-29T14:23:15.188988Z",
     "shell.execute_reply": "2025-03-29T14:23:15.188988Z",
     "shell.execute_reply.started": "2025-03-29T14:23:15.166046Z"
    },
    "id": "Xo7DRdAJj6eb"
   },
   "outputs": [],
   "source": [
    "class LogSoftMax(Module):\n",
    "    def __init__(self):\n",
    "         super(LogSoftMax, self).__init__()\n",
    "\n",
    "    def updateOutput(self, input):\n",
    "        # start with normalization for numerical stability\n",
    "        self.output = np.subtract(input, input.max(axis=1, keepdims=True))\n",
    "\n",
    "        # Your code goes here. ################################################\n",
    "        input = input - input.max(axis=1, keepdims=True)\n",
    "        exp_sum = np.exp(input).sum(axis=1, keepdims=True)\n",
    "        self.output = input - np.log(exp_sum)\n",
    "        return self.output\n",
    "\n",
    "    def updateGradInput(self, input, gradOutput):\n",
    "        # Your code goes here. ################################################\n",
    "        exp_sum = np.exp(input).sum(axis=1, keepdims=True)\n",
    "        self.gradInput = gradOutput - np.exp(input) * gradOutput.sum(axis=1, keepdims=True) / exp_sum\n",
    "        return self.gradInput\n",
    "\n",
    "    def __repr__(self):\n",
    "        return \"LogSoftMax\""
   ]
  },
  {
   "cell_type": "markdown",
   "metadata": {
    "id": "QP5QdmmPj6eb"
   },
   "source": [
    "## 4. (0.3) Batch normalization\n",
    "One of the most significant recent ideas that impacted NNs a lot is [**Batch normalization**](http://arxiv.org/abs/1502.03167). The idea is simple, yet effective: the features should be whitened ($mean = 0$, $std = 1$) all the way through NN. This improves the convergence for deep models letting it train them for days but not weeks. **You are** to implement the first part of the layer: features normalization. The second part (`ChannelwiseScaling` layer) is implemented below.\n",
    "\n",
    "- input:   **`batch_size x n_feats`**\n",
    "- output: **`batch_size x n_feats`**\n",
    "\n",
    "The layer should work as follows. While training (`self.training == True`) it transforms input as $$y = \\frac{x - \\mu}  {\\sqrt{\\sigma + \\epsilon}}$$\n",
    "where $\\mu$ and $\\sigma$ - mean and variance of feature values in **batch** and $\\epsilon$ is just a small number for numericall stability. Also during training, layer should maintain exponential moving average values for mean and variance:\n",
    "```\n",
    "    self.moving_mean = self.moving_mean * alpha + batch_mean * (1 - alpha)\n",
    "    self.moving_variance = self.moving_variance * alpha + batch_variance * (1 - alpha)\n",
    "```\n",
    "During testing (`self.training == False`) the layer normalizes input using moving_mean and moving_variance.\n",
    "\n",
    "Note that decomposition of batch normalization on normalization itself and channelwise scaling here is just a common **implementation** choice. In general \"batch normalization\" always assumes normalization + scaling."
   ]
  },
  {
   "cell_type": "code",
   "execution_count": 7,
   "metadata": {
    "execution": {
     "iopub.execute_input": "2025-03-29T14:24:52.810152Z",
     "iopub.status.busy": "2025-03-29T14:24:52.810152Z",
     "iopub.status.idle": "2025-03-29T14:24:52.871525Z",
     "shell.execute_reply": "2025-03-29T14:24:52.871525Z",
     "shell.execute_reply.started": "2025-03-29T14:24:52.810152Z"
    },
    "id": "fGTTDqVgj6eb"
   },
   "outputs": [],
   "source": [
    "class BatchNormalization(Module):\n",
    "    EPS = 1e-3\n",
    "    def __init__(self, alpha = 0.):\n",
    "        super(BatchNormalization, self).__init__()\n",
    "        self.alpha = alpha\n",
    "        self.moving_mean = None\n",
    "        self.moving_variance = None\n",
    "\n",
    "    def updateOutput(self, input):\n",
    "        # Your code goes here. ################################################\n",
    "        # use self.EPS please\n",
    "        if self.training:\n",
    "            batch_mean = input.mean(axis=0)\n",
    "            batch_var = input.var(axis=0)\n",
    "            \n",
    "            if self.moving_mean is None:\n",
    "                self.moving_mean = batch_mean\n",
    "                self.moving_variance = batch_var\n",
    "            else:\n",
    "                self.moving_mean = self.moving_mean * self.alpha + batch_mean * (1 - self.alpha)\n",
    "                self.moving_variance = self.moving_variance * self.alpha + batch_var * (1 - self.alpha)\n",
    "                \n",
    "            self.output = (input - batch_mean) / np.sqrt(batch_var + self.EPS)\n",
    "        else:\n",
    "            self.output = (input - self.moving_mean) / np.sqrt(self.moving_variance + self.EPS)\n",
    "        return self.output\n",
    "\n",
    "    def updateGradInput(self, input, gradOutput):\n",
    "        # Your code goes here. ################################################\n",
    "        batch_mean = input.mean(axis=0)\n",
    "        batch_var = input.var(axis=0)\n",
    "        \n",
    "        n = input.shape[0]\n",
    "        x_hat = (input - batch_mean) / np.sqrt(batch_var + self.EPS)\n",
    "        \n",
    "        dvar = np.sum(gradOutput * (input - batch_mean) * (-0.5) * (batch_var + self.EPS)**(-1.5), axis=0)\n",
    "        dmean = np.sum(gradOutput * (-1) / np.sqrt(batch_var + self.EPS), axis=0) + dvar * np.mean(-2 * (input - batch_mean), axis=0)\n",
    "        \n",
    "        self.gradInput = gradOutput / np.sqrt(batch_var + self.EPS) + dvar * 2 * (input - batch_mean) / n + dmean / n\n",
    "        return self.gradInput\n",
    "\n",
    "    def __repr__(self):\n",
    "        return \"BatchNormalization\""
   ]
  },
  {
   "cell_type": "code",
   "execution_count": 8,
   "metadata": {
    "execution": {
     "iopub.execute_input": "2025-03-29T14:25:18.839013Z",
     "iopub.status.busy": "2025-03-29T14:25:18.839013Z",
     "iopub.status.idle": "2025-03-29T14:25:18.863943Z",
     "shell.execute_reply": "2025-03-29T14:25:18.862026Z",
     "shell.execute_reply.started": "2025-03-29T14:25:18.839013Z"
    },
    "id": "8XUS3Lt-j6eb"
   },
   "outputs": [],
   "source": [
    "class ChannelwiseScaling(Module):\n",
    "    \"\"\"\n",
    "       Implements linear transform of input y = \\gamma * x + \\beta\n",
    "       where \\gamma, \\beta - learnable vectors of length x.shape[-1]\n",
    "    \"\"\"\n",
    "    def __init__(self, n_out):\n",
    "        super(ChannelwiseScaling, self).__init__()\n",
    "\n",
    "        stdv = 1./np.sqrt(n_out)\n",
    "        self.gamma = np.random.uniform(-stdv, stdv, size=n_out)\n",
    "        self.beta = np.random.uniform(-stdv, stdv, size=n_out)\n",
    "\n",
    "        self.gradGamma = np.zeros_like(self.gamma)\n",
    "        self.gradBeta = np.zeros_like(self.beta)\n",
    "\n",
    "    def updateOutput(self, input):\n",
    "        self.output = input * self.gamma + self.beta\n",
    "        return self.output\n",
    "\n",
    "    def updateGradInput(self, input, gradOutput):\n",
    "        self.gradInput = gradOutput * self.gamma\n",
    "        return self.gradInput\n",
    "\n",
    "    def accGradParameters(self, input, gradOutput):\n",
    "        self.gradBeta = np.sum(gradOutput, axis=0)\n",
    "        self.gradGamma = np.sum(gradOutput*input, axis=0)\n",
    "\n",
    "    def zeroGradParameters(self):\n",
    "        self.gradGamma.fill(0)\n",
    "        self.gradBeta.fill(0)\n",
    "\n",
    "    def getParameters(self):\n",
    "        return [self.gamma, self.beta]\n",
    "\n",
    "    def getGradParameters(self):\n",
    "        return [self.gradGamma, self.gradBeta]\n",
    "\n",
    "    def __repr__(self):\n",
    "        return \"ChannelwiseScaling\""
   ]
  },
  {
   "cell_type": "markdown",
   "metadata": {
    "id": "vA5zjM3jj6eb"
   },
   "source": [
    "Practical notes. If BatchNormalization is placed after a linear transformation layer (including dense layer, convolutions, channelwise scaling) that implements function like `y = weight * x + bias`, than bias adding become useless and could be omitted since its effect will be discarded while batch mean subtraction. If BatchNormalization (followed by `ChannelwiseScaling`) is placed before a layer that propagates scale (including ReLU, LeakyReLU) followed by any linear transformation layer than parameter `gamma` in `ChannelwiseScaling` could be freezed since it could be absorbed into the linear transformation layer."
   ]
  },
  {
   "cell_type": "markdown",
   "metadata": {
    "id": "Gackeo1cj6eb"
   },
   "source": [
    "## 5. (0.3) Dropout\n",
    "Implement [**dropout**](https://www.cs.toronto.edu/~hinton/absps/JMLRdropout.pdf). The idea and implementation is really simple: just multimply the input by $Bernoulli(p)$ mask. Here $p$ is probability of an element to be zeroed.\n",
    "\n",
    "This has proven to be an effective technique for regularization and preventing the co-adaptation of neurons.\n",
    "\n",
    "While training (`self.training == True`) it should sample a mask on each iteration (for every batch), zero out elements and multiply elements by $1 / (1 - p)$. The latter is needed for keeping mean values of features close to mean values which will be in test mode. When testing this module should implement identity transform i.e. `self.output = input`.\n",
    "\n",
    "- input:   **`batch_size x n_feats`**\n",
    "- output: **`batch_size x n_feats`**"
   ]
  },
  {
   "cell_type": "code",
   "execution_count": 9,
   "metadata": {
    "execution": {
     "iopub.execute_input": "2025-03-29T14:25:56.523772Z",
     "iopub.status.busy": "2025-03-29T14:25:56.523772Z",
     "iopub.status.idle": "2025-03-29T14:25:56.548058Z",
     "shell.execute_reply": "2025-03-29T14:25:56.548058Z",
     "shell.execute_reply.started": "2025-03-29T14:25:56.523772Z"
    },
    "id": "NmLQV3jXj6eb"
   },
   "outputs": [],
   "source": [
    "class Dropout(Module):\n",
    "    def __init__(self, p=0.5):\n",
    "        super(Dropout, self).__init__()\n",
    "\n",
    "        self.p = p\n",
    "        self.mask = None\n",
    "\n",
    "    def updateOutput(self, input):\n",
    "        # Your code goes here. ################################################\n",
    "        if self.training:\n",
    "            self.mask = (np.random.rand(*input.shape) > self.p) / (1 - self.p)\n",
    "            self.output = input * self.mask\n",
    "        else:\n",
    "            self.output = input\n",
    "        return  self.output\n",
    "\n",
    "    def updateGradInput(self, input, gradOutput):\n",
    "        # Your code goes here. ################################################\n",
    "        if self.training:\n",
    "            self.gradInput = gradOutput * self.mask\n",
    "        else:\n",
    "            self.gradInput = gradOutput\n",
    "        return self.gradInput\n",
    "\n",
    "    def __repr__(self):\n",
    "        return \"Dropout\""
   ]
  },
  {
   "cell_type": "markdown",
   "metadata": {
    "id": "-WHGIqJFlhz2"
   },
   "source": [
    "#6. (2.0) Conv2d\n",
    "Implement [**Conv2d**](https://pytorch.org/docs/stable/generated/torch.nn.Conv2d.html). Use only this list of parameters: (in_channels, out_channels, kernel_size, stride, padding, bias, padding_mode) and fix dilation=1 and groups=1."
   ]
  },
  {
   "cell_type": "code",
   "execution_count": 38,
   "metadata": {
    "execution": {
     "iopub.execute_input": "2025-03-30T16:16:29.947550Z",
     "iopub.status.busy": "2025-03-30T16:16:29.946551Z",
     "iopub.status.idle": "2025-03-30T16:16:29.982044Z",
     "shell.execute_reply": "2025-03-30T16:16:29.980254Z",
     "shell.execute_reply.started": "2025-03-30T16:16:29.947550Z"
    },
    "id": "c1RjNoEXlOHP"
   },
   "outputs": [],
   "source": [
    "class Conv2d(Module):\n",
    "    def __init__(self, in_channels, out_channels, kernel_size,\n",
    "                 stride=1, padding=0, bias=True, padding_mode='zeros'):\n",
    "        super(Conv2d, self).__init__()\n",
    "\n",
    "        self.in_channels = in_channels\n",
    "        self.out_channels = out_channels\n",
    "\n",
    "        self.kernel_size = kernel_size if isinstance(kernel_size, tuple) else (kernel_size, kernel_size)\n",
    "        self.stride = stride if isinstance(stride, tuple) else (stride, stride)\n",
    "        self.padding = padding if isinstance(padding, tuple) else (padding, padding)\n",
    "\n",
    "        self.bias_enabled = bias\n",
    "        self.padding_mode = padding_mode\n",
    "\n",
    "        kh, kw = self.kernel_size\n",
    "        fan_in = in_channels * kh * kw\n",
    "        stdv = 1. / np.sqrt(fan_in)\n",
    "\n",
    "        self.weight = np.random.uniform(-stdv, stdv, (out_channels, in_channels, kh, kw)).astype(np.float32)\n",
    "        self.gradWeight = np.zeros_like(self.weight)\n",
    "\n",
    "        if bias:\n",
    "            self.bias = np.random.uniform(-stdv, stdv, out_channels).astype(np.float32)\n",
    "            self.gradBias = np.zeros_like(self.bias)\n",
    "        else:\n",
    "            self.bias = None\n",
    "            self.gradBias = None\n",
    "\n",
    "    def pad_input(self, input):\n",
    "        pad_h, pad_w = self.padding\n",
    "    \n",
    "        pad_mode = self.padding_mode\n",
    "        if pad_mode == 'zeros':\n",
    "            # zeros → constant with constant_values=0\n",
    "            return np.pad(\n",
    "                input,\n",
    "                ((0, 0), (0, 0), (pad_h, pad_h), (pad_w, pad_w)),\n",
    "                mode='constant',\n",
    "                constant_values=0\n",
    "            )\n",
    "        elif pad_mode == 'replicate':\n",
    "            pad_mode = 'edge'\n",
    "        elif pad_mode not in ['reflect', 'edge', 'wrap']:\n",
    "            raise ValueError(f\"Unsupported padding_mode: {self.padding_mode}\")\n",
    "    \n",
    "        # для edge, reflect, wrap → pad без constant_values\n",
    "        return np.pad(\n",
    "            input,\n",
    "            ((0, 0), (0, 0), (pad_h, pad_h), (pad_w, pad_w)),\n",
    "            mode=pad_mode\n",
    "        )\n",
    "\n",
    "    def updateOutput(self, input):\n",
    "        self.input = input\n",
    "        N, C, H, W = input.shape\n",
    "        OC, IC, KH, KW = self.weight.shape\n",
    "        SH, SW = self.stride\n",
    "\n",
    "        x_padded = self.pad_input(input)\n",
    "        self.input_padded = x_padded\n",
    "\n",
    "        H_out = (H + 2 * self.padding[0] - KH) // SH + 1\n",
    "        W_out = (W + 2 * self.padding[1] - KW) // SW + 1\n",
    "\n",
    "        self.output = np.zeros((N, OC, H_out, W_out), dtype=np.float32)\n",
    "\n",
    "        for n in range(N):\n",
    "            for oc in range(OC):\n",
    "                for i in range(H_out):\n",
    "                    for j in range(W_out):\n",
    "                        h_start = i * SH\n",
    "                        w_start = j * SW\n",
    "                        region = x_padded[n, :, h_start:h_start+KH, w_start:w_start+KW]\n",
    "                        self.output[n, oc, i, j] = np.sum(region * self.weight[oc])\n",
    "                        if self.bias_enabled:\n",
    "                            self.output[n, oc, i, j] += self.bias[oc]\n",
    "\n",
    "        return self.output\n",
    "\n",
    "    def updateGradInput(self, input, gradOutput):\n",
    "        N, C, H, W = input.shape\n",
    "        OC, IC, KH, KW = self.weight.shape\n",
    "        SH, SW = self.stride\n",
    "        H_out, W_out = gradOutput.shape[2:]\n",
    "\n",
    "        grad_input_padded = np.zeros_like(self.input_padded, dtype=np.float32)\n",
    "\n",
    "        for n in range(N):\n",
    "            for oc in range(OC):\n",
    "                for i in range(H_out):\n",
    "                    for j in range(W_out):\n",
    "                        h_start = i * SH\n",
    "                        w_start = j * SW\n",
    "                        grad = gradOutput[n, oc, i, j]\n",
    "                        grad_input_padded[n, :, h_start:h_start+KH, w_start:w_start+KW] += grad * self.weight[oc]\n",
    "\n",
    "        if self.padding != (0, 0):\n",
    "            ph, pw = self.padding\n",
    "            self.gradInput = grad_input_padded[:, :, ph:-ph or None, pw:-pw or None]\n",
    "        else:\n",
    "            self.gradInput = grad_input_padded\n",
    "\n",
    "        return self.gradInput\n",
    "\n",
    "    def accGradParameters(self, input, gradOutput):\n",
    "        N, C, H, W = input.shape\n",
    "        OC, IC, KH, KW = self.weight.shape\n",
    "        SH, SW = self.stride\n",
    "        H_out, W_out = gradOutput.shape[2:]\n",
    "\n",
    "        self.gradWeight.fill(0)\n",
    "        if self.bias_enabled:\n",
    "            self.gradBias.fill(0)\n",
    "\n",
    "        for n in range(N):\n",
    "            for oc in range(OC):\n",
    "                for i in range(H_out):\n",
    "                    for j in range(W_out):\n",
    "                        h_start = i * SH\n",
    "                        w_start = j * SW\n",
    "                        region = self.input_padded[n, :, h_start:h_start+KH, w_start:w_start+KW]\n",
    "                        grad = gradOutput[n, oc, i, j]\n",
    "                        self.gradWeight[oc] += grad * region\n",
    "                        if self.bias_enabled:\n",
    "                            self.gradBias[oc] += grad\n",
    "\n",
    "    def __repr__(self):\n",
    "        return \"Conv2d\""
   ]
  },
  {
   "cell_type": "markdown",
   "metadata": {
    "id": "updUVZE9qixP"
   },
   "source": [
    "#7. (0.5) Implement [**MaxPool2d**](https://pytorch.org/docs/stable/generated/torch.nn.MaxPool2d.html) and [**AvgPool2d**](https://pytorch.org/docs/stable/generated/torch.nn.AvgPool2d.html). Use only parameters like kernel_size, stride, padding (negative infinity for maxpool and zero for avgpool) and other parameters fixed as in framework."
   ]
  },
  {
   "cell_type": "code",
   "execution_count": 37,
   "metadata": {
    "execution": {
     "iopub.execute_input": "2025-03-30T16:14:28.393464Z",
     "iopub.status.busy": "2025-03-30T16:14:28.393464Z",
     "iopub.status.idle": "2025-03-30T16:14:28.439332Z",
     "shell.execute_reply": "2025-03-30T16:14:28.438041Z",
     "shell.execute_reply.started": "2025-03-30T16:14:28.393464Z"
    },
    "id": "Qys58EzkqhLj"
   },
   "outputs": [],
   "source": [
    "class MaxPool2d(Module):\n",
    "    def __init__(self, kernel_size, stride, padding):\n",
    "        super(MaxPool2d, self).__init__()\n",
    "\n",
    "        self.kernel_size = kernel_size if isinstance(kernel_size, tuple) else (kernel_size, kernel_size)\n",
    "        self.stride = stride if isinstance(stride, tuple) else (stride, stride)\n",
    "        self.padding = padding if isinstance(padding, tuple) else (padding, padding)\n",
    "\n",
    "    def updateOutput(self, input):\n",
    "        self.input = input\n",
    "        N, C, H, W = input.shape\n",
    "        kH, kW = self.kernel_size\n",
    "        sH, sW = self.stride\n",
    "        pH, pW = self.padding\n",
    "\n",
    "        # padding with -inf\n",
    "        padded = np.pad(input, ((0, 0), (0, 0), (pH, pH), (pW, pW)),\n",
    "                        mode='constant', constant_values=-np.inf)\n",
    "\n",
    "        out_H = (H + 2 * pH - kH) // sH + 1\n",
    "        out_W = (W + 2 * pW - kW) // sW + 1\n",
    "        self.output = np.zeros((N, C, out_H, out_W), dtype=np.float32)\n",
    "\n",
    "        self.max_indices = {}\n",
    "        for n in range(N):\n",
    "            for c in range(C):\n",
    "                for i in range(out_H):\n",
    "                    for j in range(out_W):\n",
    "                        h_start = i * sH\n",
    "                        w_start = j * sW\n",
    "                        window = padded[n, c, h_start:h_start + kH, w_start:w_start + kW]\n",
    "                        max_val = np.max(window)\n",
    "                        self.output[n, c, i, j] = max_val\n",
    "\n",
    "                        # Save the position of max value for backward\n",
    "                        max_pos = np.unravel_index(np.argmax(window), window.shape)\n",
    "                        self.max_indices[(n, c, i, j)] = (h_start + max_pos[0], w_start + max_pos[1])\n",
    "\n",
    "        return self.output\n",
    "\n",
    "    def updateGradInput(self, input, gradOutput):\n",
    "        N, C, H, W = input.shape\n",
    "        grad_input = np.zeros_like(input, dtype=np.float32)\n",
    "\n",
    "        for (n, c, i, j), (h, w) in self.max_indices.items():\n",
    "            grad_input[n, c, h, w] += gradOutput[n, c, i, j]\n",
    "\n",
    "        self.gradInput = grad_input\n",
    "        return self.gradInput\n",
    "\n",
    "    def __repr__(self):\n",
    "        return \"MaxPool2d\"\n",
    "\n",
    "class AvgPool2d(Module):\n",
    "    def __init__(self, kernel_size, stride, padding):\n",
    "        super(AvgPool2d, self).__init__()\n",
    "\n",
    "        self.kernel_size = kernel_size if isinstance(kernel_size, tuple) else (kernel_size, kernel_size)\n",
    "        self.stride = stride if isinstance(stride, tuple) else (stride, stride)\n",
    "        self.padding = padding if isinstance(padding, tuple) else (padding, padding)\n",
    "\n",
    "    def updateOutput(self, input):\n",
    "        self.input = input\n",
    "        N, C, H, W = input.shape\n",
    "        kH, kW = self.kernel_size\n",
    "        sH, sW = self.stride\n",
    "        pH, pW = self.padding\n",
    "\n",
    "        padded = np.pad(input, ((0, 0), (0, 0), (pH, pH), (pW, pW)),\n",
    "                        mode='constant', constant_values=0)\n",
    "\n",
    "        out_H = (H + 2 * pH - kH) // sH + 1\n",
    "        out_W = (W + 2 * pW - kW) // sW + 1\n",
    "        self.output = np.zeros((N, C, out_H, out_W), dtype=np.float32)\n",
    "\n",
    "        for n in range(N):\n",
    "            for c in range(C):\n",
    "                for i in range(out_H):\n",
    "                    for j in range(out_W):\n",
    "                        h_start = i * sH\n",
    "                        w_start = j * sW\n",
    "                        window = padded[n, c, h_start:h_start + kH, w_start:w_start + kW]\n",
    "                        self.output[n, c, i, j] = np.mean(window)\n",
    "\n",
    "        return self.output\n",
    "        \n",
    "\n",
    "    def updateGradInput(self, input, gradOutput):\n",
    "        N, C, H, W = input.shape\n",
    "        kH, kW = self.kernel_size\n",
    "        sH, sW = self.stride\n",
    "        pH, pW = self.padding\n",
    "\n",
    "        grad_input_padded = np.zeros((N, C, H + 2 * pH, W + 2 * pW), dtype=np.float32)\n",
    "        out_H, out_W = gradOutput.shape[2:]\n",
    "\n",
    "        for n in range(N):\n",
    "            for c in range(C):\n",
    "                for i in range(out_H):\n",
    "                    for j in range(out_W):\n",
    "                        h_start = i * sH\n",
    "                        w_start = j * sW\n",
    "                        grad = gradOutput[n, c, i, j] / (kH * kW)\n",
    "                        grad_input_padded[n, c, h_start:h_start + kH, w_start:w_start + kW] += grad\n",
    "\n",
    "        # Remove padding\n",
    "        self.gradInput = grad_input_padded[:, :, pH:pH + H, pW:pW + W]\n",
    "        return self.gradInput\n",
    "\n",
    "    def __repr__(self):\n",
    "        return \"AvgPool2d\""
   ]
  },
  {
   "cell_type": "markdown",
   "metadata": {
    "id": "KTN5R3CwrukV"
   },
   "source": [
    "#8. (0.3) Implement **GlobalMaxPool2d** and **GlobalAvgPool2d**. They do not have testing and parameters are up to you but they must aggregate information within channels. Write test functions for these layers on your own."
   ]
  },
  {
   "cell_type": "code",
   "execution_count": 36,
   "metadata": {
    "execution": {
     "iopub.execute_input": "2025-03-30T16:13:50.489692Z",
     "iopub.status.busy": "2025-03-30T16:13:50.489692Z",
     "iopub.status.idle": "2025-03-30T16:13:50.517451Z",
     "shell.execute_reply": "2025-03-30T16:13:50.515371Z",
     "shell.execute_reply.started": "2025-03-30T16:13:50.489692Z"
    }
   },
   "outputs": [],
   "source": [
    "class GlobalMaxPool2d(Module):\n",
    "    def __init__(self):\n",
    "        super(GlobalMaxPool2d, self).__init__()\n",
    "\n",
    "    def updateOutput(self, input):\n",
    "        self.input = input\n",
    "        N, C, H, W = input.shape\n",
    "        self.output = np.max(input, axis=(2, 3))  # shape: (N, C)\n",
    "\n",
    "        self.max_mask = (input == self.output[:, :, None, None])\n",
    "        return self.output\n",
    "\n",
    "    def updateGradInput(self, input, gradOutput):\n",
    "        N, C, H, W = input.shape\n",
    "        grad = np.zeros_like(input, dtype=np.float32)\n",
    "\n",
    "        grad += self.max_mask.astype(np.float32) * gradOutput[:, :, None, None]\n",
    "        self.gradInput = grad\n",
    "        return self.gradInput\n",
    "\n",
    "    def __repr__(self):\n",
    "        return \"GlobalMaxPool2d\"\n",
    "\n",
    "\n",
    "class GlobalAvgPool2d(Module):\n",
    "    def __init__(self):\n",
    "        super(GlobalAvgPool2d, self).__init__()\n",
    "\n",
    "    def updateOutput(self, input):\n",
    "        self.input = input\n",
    "        N, C, H, W = input.shape\n",
    "        self.output = np.mean(input, axis=(2, 3))  # shape: (N, C)\n",
    "        return self.output\n",
    "\n",
    "    def updateGradInput(self, input, gradOutput):\n",
    "        N, C, H, W = input.shape\n",
    "        grad = np.ones_like(input, dtype=np.float32) * (gradOutput[:, :, None, None] / (H * W))\n",
    "        self.gradInput = grad\n",
    "        return self.gradInput\n",
    "\n",
    "    def __repr__(self):\n",
    "        return \"GlobalAvgPool2d\"\n"
   ]
  },
  {
   "cell_type": "markdown",
   "metadata": {
    "id": "cYeBQDBhtViy"
   },
   "source": [
    "#9. (0.2) Implement [**Flatten**](https://pytorch.org/docs/stable/generated/torch.flatten.html)"
   ]
  },
  {
   "cell_type": "code",
   "execution_count": 26,
   "metadata": {
    "execution": {
     "iopub.execute_input": "2025-03-30T15:44:11.228010Z",
     "iopub.status.busy": "2025-03-30T15:44:11.228010Z",
     "iopub.status.idle": "2025-03-30T15:44:11.255228Z",
     "shell.execute_reply": "2025-03-30T15:44:11.253456Z",
     "shell.execute_reply.started": "2025-03-30T15:44:11.228010Z"
    },
    "id": "SimPEMOFqhTQ"
   },
   "outputs": [],
   "source": [
    "class Flatten(Module):\n",
    "    def __init__(self, start_dim=0, end_dim=-1):\n",
    "        super(Flatten, self).__init__()\n",
    "\n",
    "        self.start_dim = start_dim\n",
    "        self.end_dim = end_dim\n",
    "\n",
    "    def updateOutput(self, input):\n",
    "        self.input_shape = input.shape\n",
    "        input = input.astype(np.float32)\n",
    "\n",
    "        dims = len(input.shape)\n",
    "        start = self.start_dim if self.start_dim >= 0 else dims + self.start_dim\n",
    "        end = self.end_dim if self.end_dim >= 0 else dims + self.end_dim\n",
    "\n",
    "        before = input.shape[:start]\n",
    "        flattened = np.prod(input.shape[start:end + 1])\n",
    "        after = input.shape[end + 1:]\n",
    "        self.output = input.reshape(*before, flattened, *after)\n",
    "\n",
    "        return self.output\n",
    "\n",
    "    def updateGradInput(self, input, gradOutput):\n",
    "        self.gradInput = gradOutput.reshape(self.input_shape)\n",
    "        return self.gradInput\n",
    "\n",
    "    def __repr__(self):\n",
    "        return \"Flatten\""
   ]
  },
  {
   "cell_type": "markdown",
   "metadata": {
    "id": "o36vPHSSj6eb"
   },
   "source": [
    "# Activation functions"
   ]
  },
  {
   "cell_type": "markdown",
   "metadata": {
    "id": "l_pryRQIj6ec"
   },
   "source": [
    "Here's the complete example for the **Rectified Linear Unit** non-linearity (aka **ReLU**):"
   ]
  },
  {
   "cell_type": "code",
   "execution_count": 14,
   "metadata": {
    "execution": {
     "iopub.execute_input": "2025-03-29T14:35:58.792110Z",
     "iopub.status.busy": "2025-03-29T14:35:58.792110Z",
     "iopub.status.idle": "2025-03-29T14:35:58.813140Z",
     "shell.execute_reply": "2025-03-29T14:35:58.811875Z",
     "shell.execute_reply.started": "2025-03-29T14:35:58.792110Z"
    },
    "id": "sgm8bXjKj6ec"
   },
   "outputs": [],
   "source": [
    "class ReLU(Module):\n",
    "    def __init__(self):\n",
    "         super(ReLU, self).__init__()\n",
    "\n",
    "    def updateOutput(self, input):\n",
    "        self.output = np.maximum(input, 0)\n",
    "        return self.output\n",
    "\n",
    "    def updateGradInput(self, input, gradOutput):\n",
    "        self.gradInput = np.multiply(gradOutput , input > 0)\n",
    "        return self.gradInput\n",
    "\n",
    "    def __repr__(self):\n",
    "        return \"ReLU\""
   ]
  },
  {
   "cell_type": "markdown",
   "metadata": {
    "id": "yB0UHGagj6ec"
   },
   "source": [
    "## 10. (0.1) Leaky ReLU\n",
    "Implement [**Leaky Rectified Linear Unit**](http://en.wikipedia.org/wiki%2FRectifier_%28neural_networks%29%23Leaky_ReLUs). Expriment with slope."
   ]
  },
  {
   "cell_type": "code",
   "execution_count": 15,
   "metadata": {
    "execution": {
     "iopub.execute_input": "2025-03-29T14:36:03.940537Z",
     "iopub.status.busy": "2025-03-29T14:36:03.940537Z",
     "iopub.status.idle": "2025-03-29T14:36:03.963025Z",
     "shell.execute_reply": "2025-03-29T14:36:03.962280Z",
     "shell.execute_reply.started": "2025-03-29T14:36:03.940537Z"
    },
    "id": "agwfkwO0j6ec"
   },
   "outputs": [],
   "source": [
    "class LeakyReLU(Module):\n",
    "    def __init__(self, slope = 0.03):\n",
    "        super(LeakyReLU, self).__init__()\n",
    "\n",
    "        self.slope = slope\n",
    "\n",
    "    def updateOutput(self, input):\n",
    "        # Your code goes here. ################################################\n",
    "        self.output = np.where(input > 0, input, input * self.slope)\n",
    "        return  self.output\n",
    "\n",
    "    def updateGradInput(self, input, gradOutput):\n",
    "        # Your code goes here. ################################################\n",
    "        self.gradInput = np.where(input > 0, gradOutput, gradOutput * self.slope)\n",
    "        return self.gradInput\n",
    "\n",
    "    def __repr__(self):\n",
    "        return \"LeakyReLU\""
   ]
  },
  {
   "cell_type": "markdown",
   "metadata": {
    "id": "t-STyecvj6ec"
   },
   "source": [
    "## 11. (0.1) ELU\n",
    "Implement [**Exponential Linear Units**](http://arxiv.org/abs/1511.07289) activations."
   ]
  },
  {
   "cell_type": "code",
   "execution_count": 16,
   "metadata": {
    "execution": {
     "iopub.execute_input": "2025-03-29T14:36:43.729742Z",
     "iopub.status.busy": "2025-03-29T14:36:43.729742Z",
     "iopub.status.idle": "2025-03-29T14:36:43.748765Z",
     "shell.execute_reply": "2025-03-29T14:36:43.748765Z",
     "shell.execute_reply.started": "2025-03-29T14:36:43.729742Z"
    },
    "id": "jJSzEu1mj6ec"
   },
   "outputs": [],
   "source": [
    "class ELU(Module):\n",
    "    def __init__(self, alpha = 1.0):\n",
    "        super(ELU, self).__init__()\n",
    "\n",
    "        self.alpha = alpha\n",
    "\n",
    "    def updateOutput(self, input):\n",
    "        # Your code goes here. ################################################\n",
    "        self.output = np.where(input > 0, input, self.alpha * (np.exp(input) - 1))\n",
    "        return  self.output\n",
    "\n",
    "    def updateGradInput(self, input, gradOutput):\n",
    "        # Your code goes here. ################################################\n",
    "        self.gradInput = np.where(input > 0, gradOutput, gradOutput * self.alpha * np.exp(input))\n",
    "        return self.gradInput\n",
    "\n",
    "    def __repr__(self):\n",
    "        return \"ELU\""
   ]
  },
  {
   "cell_type": "markdown",
   "metadata": {
    "id": "Gn3C7KTqj6ec"
   },
   "source": [
    "## 12. (0.1) SoftPlus\n",
    "Implement [**SoftPlus**](https://en.wikipedia.org/wiki%2FRectifier_%28neural_networks%29) activations. Look, how they look a lot like ReLU."
   ]
  },
  {
   "cell_type": "code",
   "execution_count": 17,
   "metadata": {
    "execution": {
     "iopub.execute_input": "2025-03-29T14:37:14.047720Z",
     "iopub.status.busy": "2025-03-29T14:37:14.047720Z",
     "iopub.status.idle": "2025-03-29T14:37:14.071669Z",
     "shell.execute_reply": "2025-03-29T14:37:14.070970Z",
     "shell.execute_reply.started": "2025-03-29T14:37:14.047720Z"
    },
    "id": "xcDPMssrj6ec"
   },
   "outputs": [],
   "source": [
    "class SoftPlus(Module):\n",
    "    def __init__(self):\n",
    "        super(SoftPlus, self).__init__()\n",
    "\n",
    "    def updateOutput(self, input):\n",
    "        # Your code goes here. ################################################\n",
    "        self.output = np.log(1 + np.exp(input))\n",
    "        return  self.output\n",
    "\n",
    "    def updateGradInput(self, input, gradOutput):\n",
    "        # Your code goes here. ################################################\n",
    "        self.gradInput = gradOutput * (1 - 1 / (1 + np.exp(input)))\n",
    "        return self.gradInput\n",
    "\n",
    "    def __repr__(self):\n",
    "        return \"SoftPlus\""
   ]
  },
  {
   "cell_type": "markdown",
   "metadata": {
    "id": "kw3PeZjOuo0e"
   },
   "source": [
    "#13. (0.2) Gelu\n",
    "Implement [**Gelu**](https://pytorch.org/docs/stable/generated/torch.nn.GELU.html) activations."
   ]
  },
  {
   "cell_type": "code",
   "execution_count": 40,
   "metadata": {
    "execution": {
     "iopub.execute_input": "2025-03-30T16:32:15.276459Z",
     "iopub.status.busy": "2025-03-30T16:32:15.276459Z",
     "iopub.status.idle": "2025-03-30T16:32:15.286242Z",
     "shell.execute_reply": "2025-03-30T16:32:15.285560Z",
     "shell.execute_reply.started": "2025-03-30T16:32:15.276459Z"
    },
    "id": "SdieE0Dtuo8j"
   },
   "outputs": [],
   "source": [
    "class Gelu(Module):\n",
    "    def __init__(self):\n",
    "        super(Gelu, self).__init__()\n",
    "\n",
    "    def updateOutput(self, input):\n",
    "        self.input = input.astype(np.float32)\n",
    "        x = self.input\n",
    "        self.output = 0.5 * x * (1.0 + np.erf(x / np.sqrt(2))).astype(np.float32)\n",
    "        return self.output\n",
    "\n",
    "    def updateGradInput(self, input, gradOutput):\n",
    "        x = self.input\n",
    "        erf_term = np.erf(x / np.sqrt(2))\n",
    "        exp_term = np.exp(-0.5 * x**2)\n",
    "        sqrt_2pi = np.sqrt(2 * np.pi)\n",
    "\n",
    "        dgelu = 0.5 * (1.0 + erf_term) + (x * exp_term) / sqrt_2pi\n",
    "        self.gradInput = (gradOutput * dgelu).astype(np.float32)\n",
    "        return self.gradInput\n",
    "\n",
    "    def __repr__(self):\n",
    "        return \"Gelu\""
   ]
  },
  {
   "cell_type": "markdown",
   "metadata": {
    "id": "55p7UvPAj6ec"
   },
   "source": [
    "# Criterions"
   ]
  },
  {
   "cell_type": "markdown",
   "metadata": {
    "id": "5NFaxZaqj6ec"
   },
   "source": [
    "Criterions are used to score the models answers."
   ]
  },
  {
   "cell_type": "code",
   "execution_count": 19,
   "metadata": {
    "execution": {
     "iopub.execute_input": "2025-03-29T14:37:53.313169Z",
     "iopub.status.busy": "2025-03-29T14:37:53.313169Z",
     "iopub.status.idle": "2025-03-29T14:37:53.336051Z",
     "shell.execute_reply": "2025-03-29T14:37:53.334835Z",
     "shell.execute_reply.started": "2025-03-29T14:37:53.313169Z"
    },
    "id": "XGu45A8qj6ec"
   },
   "outputs": [],
   "source": [
    "class Criterion(object):\n",
    "    def __init__ (self):\n",
    "        self.output = None\n",
    "        self.gradInput = None\n",
    "\n",
    "    def forward(self, input, target):\n",
    "        \"\"\"\n",
    "            Given an input and a target, compute the loss function\n",
    "            associated to the criterion and return the result.\n",
    "\n",
    "            For consistency this function should not be overrided,\n",
    "            all the code goes in `updateOutput`.\n",
    "        \"\"\"\n",
    "        return self.updateOutput(input, target)\n",
    "\n",
    "    def backward(self, input, target):\n",
    "        \"\"\"\n",
    "            Given an input and a target, compute the gradients of the loss function\n",
    "            associated to the criterion and return the result.\n",
    "\n",
    "            For consistency this function should not be overrided,\n",
    "            all the code goes in `updateGradInput`.\n",
    "        \"\"\"\n",
    "        return self.updateGradInput(input, target)\n",
    "\n",
    "    def updateOutput(self, input, target):\n",
    "        \"\"\"\n",
    "        Function to override.\n",
    "        \"\"\"\n",
    "        return self.output\n",
    "\n",
    "    def updateGradInput(self, input, target):\n",
    "        \"\"\"\n",
    "        Function to override.\n",
    "        \"\"\"\n",
    "        return self.gradInput\n",
    "\n",
    "    def __repr__(self):\n",
    "        \"\"\"\n",
    "        Pretty printing. Should be overrided in every module if you want\n",
    "        to have readable description.\n",
    "        \"\"\"\n",
    "        return \"Criterion\""
   ]
  },
  {
   "cell_type": "markdown",
   "metadata": {
    "id": "WuU26xkpj6ec"
   },
   "source": [
    "The **MSECriterion**, which is basic L2 norm usually used for regression, is implemented here for you.\n",
    "- input:   **`batch_size x n_feats`**\n",
    "- target: **`batch_size x n_feats`**\n",
    "- output: **scalar**"
   ]
  },
  {
   "cell_type": "code",
   "execution_count": 20,
   "metadata": {
    "execution": {
     "iopub.execute_input": "2025-03-29T14:37:56.073606Z",
     "iopub.status.busy": "2025-03-29T14:37:56.073606Z",
     "iopub.status.idle": "2025-03-29T14:37:56.080269Z",
     "shell.execute_reply": "2025-03-29T14:37:56.080269Z",
     "shell.execute_reply.started": "2025-03-29T14:37:56.073606Z"
    },
    "id": "-i3VNuHhj6ec"
   },
   "outputs": [],
   "source": [
    "class MSECriterion(Criterion):\n",
    "    def __init__(self):\n",
    "        super(MSECriterion, self).__init__()\n",
    "\n",
    "    def updateOutput(self, input, target):\n",
    "        self.output = np.sum(np.power(input - target,2)) / input.shape[0]\n",
    "        return self.output\n",
    "\n",
    "    def updateGradInput(self, input, target):\n",
    "        self.gradInput  = (input - target) * 2 / input.shape[0]\n",
    "        return self.gradInput\n",
    "\n",
    "    def __repr__(self):\n",
    "        return \"MSECriterion\""
   ]
  },
  {
   "cell_type": "markdown",
   "metadata": {
    "id": "x8LKLWNVj6ec"
   },
   "source": [
    "## 14. (0.2) Negative LogLikelihood criterion (numerically unstable)\n",
    "You task is to implement the **ClassNLLCriterion**. It should implement [multiclass log loss](http://scikit-learn.org/stable/modules/model_evaluation.html#log-loss). Nevertheless there is a sum over `y` (target) in that formula,\n",
    "remember that targets are one-hot encoded. This fact simplifies the computations a lot. Note, that criterions are the only places, where you divide by batch size. Also there is a small hack with adding small number to probabilities to avoid computing log(0).\n",
    "- input:   **`batch_size x n_feats`** - probabilities\n",
    "- target: **`batch_size x n_feats`** - one-hot representation of ground truth\n",
    "- output: **scalar**\n",
    "\n"
   ]
  },
  {
   "cell_type": "code",
   "execution_count": 24,
   "metadata": {
    "execution": {
     "iopub.execute_input": "2025-03-30T15:42:33.355461Z",
     "iopub.status.busy": "2025-03-30T15:42:33.355461Z",
     "iopub.status.idle": "2025-03-30T15:42:33.389425Z",
     "shell.execute_reply": "2025-03-30T15:42:33.389425Z",
     "shell.execute_reply.started": "2025-03-30T15:42:33.355461Z"
    },
    "id": "die7KvW6j6ec"
   },
   "outputs": [],
   "source": [
    "class ClassNLLCriterionUnstable(Criterion):\n",
    "    EPS = 1e-15\n",
    "    def __init__(self):\n",
    "        a = super(ClassNLLCriterionUnstable, self)\n",
    "        super(ClassNLLCriterionUnstable, self).__init__()\n",
    "\n",
    "    def updateOutput(self, input, target):\n",
    "        input_clamp = np.clip(input, self.EPS, 1 - self.EPS)\n",
    "        self.input = input_clamp\n",
    "        self.target = target\n",
    "\n",
    "        losses = -np.sum(target * np.log(input_clamp), axis=1) \n",
    "        self.output = np.mean(losses)\n",
    "        return self.output\n",
    "\n",
    "    def updateGradInput(self, input, target):\n",
    "        input_clamp = np.clip(input, self.EPS, 1 - self.EPS)\n",
    "        batch_size = input.shape[0]\n",
    "\n",
    "        self.gradInput = -target / (input_clamp * batch_size)\n",
    "        return self.gradInput\n",
    "\n",
    "    def __repr__(self):\n",
    "        return \"ClassNLLCriterionUnstable\""
   ]
  },
  {
   "cell_type": "markdown",
   "metadata": {
    "id": "uHr_JbU5j6ec"
   },
   "source": [
    "## 15. (0.3) Negative LogLikelihood criterion (numerically stable)\n",
    "- input:   **`batch_size x n_feats`** - log probabilities\n",
    "- target: **`batch_size x n_feats`** - one-hot representation of ground truth\n",
    "- output: **scalar**\n",
    "\n",
    "Task is similar to the previous one, but now the criterion input is the output of log-softmax layer. This decomposition allows us to avoid problems with computation of forward and backward of log()."
   ]
  },
  {
   "cell_type": "code",
   "execution_count": 23,
   "metadata": {
    "execution": {
     "iopub.execute_input": "2025-03-30T15:42:11.099925Z",
     "iopub.status.busy": "2025-03-30T15:42:11.099925Z",
     "iopub.status.idle": "2025-03-30T15:42:11.157280Z",
     "shell.execute_reply": "2025-03-30T15:42:11.157280Z",
     "shell.execute_reply.started": "2025-03-30T15:42:11.099925Z"
    },
    "id": "v7N8bVP9j6ec"
   },
   "outputs": [],
   "source": [
    "class ClassNLLCriterion(Criterion):\n",
    "    def __init__(self):\n",
    "        a = super(ClassNLLCriterion, self)\n",
    "        super(ClassNLLCriterion, self).__init__()\n",
    "\n",
    "    def updateOutput(self, input, target):\n",
    "        self.input = input\n",
    "        self.target = target\n",
    "        losses = -np.sum(target * input, axis=1)  # shape: [B]\n",
    "        self.output = np.mean(losses)  # scalar\n",
    "        return self.output\n",
    "\n",
    "    def updateGradInput(self, input, target):\n",
    "        batch_size = input.shape[0]\n",
    "        self.gradInput = -target / batch_size  # shape: [B, C]\n",
    "        return self.gradInput\n",
    "\n",
    "    def __repr__(self):\n",
    "        return \"ClassNLLCriterion\""
   ]
  },
  {
   "cell_type": "code",
   "execution_count": null,
   "metadata": {
    "id": "E-ZnhKxaj6ed"
   },
   "outputs": [],
   "source": []
  },
  {
   "cell_type": "markdown",
   "metadata": {
    "id": "TC2Bf1PP2Ios"
   },
   "source": [
    "1-я часть задания: реализация слоев, лосей и функций активации - 5 баллов. \\\\\n",
    "2-я часть задания: реализация моделей на своих классах. Что должно быть:\n",
    "  1. Выберите оптимизатор и реализуйте его, чтоб он работал с вами классами. - 1 балл.\n",
    "  2. Модель для задачи мультирегрессии на выбраных вами данных. Использовать FCNN, dropout, batchnorm, MSE. Пробуйте различные фукнции активации. Для первой модели попробуйте большую, среднюю и маленькую модель. - 1 балл.\n",
    "  3. Модель для задачи мультиклассификации на MNIST. Использовать свёртки, макспулы, флэттэны, софтмаксы - 1 балла.\n",
    "  4. Автоэнкодер для выбранных вами данных. Должен быть на свёртках и полносвязных слоях, дропаутах, батчнормах и тд. - 2 балла. \\\\\n",
    "\n",
    "Дополнительно в оценке каждой модели будет учитываться:\n",
    "1. Наличие правильно выбранной метрики и лосс функции.\n",
    "2. Отрисовка графиков лосей и метрик на трейне-валидации. Проверка качества модели на тесте.\n",
    "3. Наличие шедулера для lr.\n",
    "4. Наличие вормапа.\n",
    "5. Наличие механизма ранней остановки и сохранение лучшей модели.\n",
    "6. Свитч лося (метрики) и оптимайзера."
   ]
  },
  {
   "cell_type": "code",
   "execution_count": null,
   "metadata": {
    "id": "Aq0X5QV55ZH4"
   },
   "outputs": [],
   "source": []
  },
  {
   "cell_type": "code",
   "execution_count": null,
   "metadata": {},
   "outputs": [],
   "source": []
  },
  {
   "cell_type": "code",
   "execution_count": null,
   "metadata": {},
   "outputs": [],
   "source": []
  },
  {
   "cell_type": "code",
   "execution_count": null,
   "metadata": {},
   "outputs": [],
   "source": []
  },
  {
   "cell_type": "code",
   "execution_count": null,
   "metadata": {},
   "outputs": [],
   "source": []
  },
  {
   "cell_type": "code",
   "execution_count": null,
   "metadata": {},
   "outputs": [],
   "source": []
  },
  {
   "cell_type": "code",
   "execution_count": null,
   "metadata": {},
   "outputs": [],
   "source": []
  }
 ],
 "metadata": {
  "colab": {
   "provenance": []
  },
  "kernelspec": {
   "display_name": "Python 3 (ipykernel)",
   "language": "python",
   "name": "python3"
  },
  "language_info": {
   "codemirror_mode": {
    "name": "ipython",
    "version": 3
   },
   "file_extension": ".py",
   "mimetype": "text/x-python",
   "name": "python",
   "nbconvert_exporter": "python",
   "pygments_lexer": "ipython3",
   "version": "3.11.7"
  }
 },
 "nbformat": 4,
 "nbformat_minor": 4
}
