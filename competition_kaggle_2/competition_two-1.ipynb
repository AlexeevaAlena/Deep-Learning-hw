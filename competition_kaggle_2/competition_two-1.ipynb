{
 "cells": [
  {
   "cell_type": "code",
   "execution_count": 26,
   "id": "cea94795-d663-499f-ad18-a458da6e036f",
   "metadata": {
    "execution": {
     "iopub.execute_input": "2025-05-17T14:41:33.259535Z",
     "iopub.status.busy": "2025-05-17T14:41:33.258628Z",
     "iopub.status.idle": "2025-05-17T14:41:35.620830Z",
     "shell.execute_reply": "2025-05-17T14:41:35.619796Z",
     "shell.execute_reply.started": "2025-05-17T14:41:33.259500Z"
    },
    "tags": []
   },
   "outputs": [
    {
     "name": "stdout",
     "output_type": "stream",
     "text": [
      "Defaulting to user installation because normal site-packages is not writeable\n",
      "Requirement already satisfied: nltk in /usr/local/lib/python3.10/dist-packages (3.8.1)\n",
      "Requirement already satisfied: click in /usr/local/lib/python3.10/dist-packages (from nltk) (8.1.6)\n",
      "Requirement already satisfied: joblib in /usr/local/lib/python3.10/dist-packages (from nltk) (1.3.1)\n",
      "Requirement already satisfied: regex>=2021.8.3 in /usr/local/lib/python3.10/dist-packages (from nltk) (2022.10.31)\n",
      "Requirement already satisfied: tqdm in /usr/local/lib/python3.10/dist-packages (from nltk) (4.65.0)\n",
      "\n",
      "\u001b[1m[\u001b[0m\u001b[34;49mnotice\u001b[0m\u001b[1;39;49m]\u001b[0m\u001b[39;49m A new release of pip is available: \u001b[0m\u001b[31;49m23.0.1\u001b[0m\u001b[39;49m -> \u001b[0m\u001b[32;49m25.1.1\u001b[0m\n",
      "\u001b[1m[\u001b[0m\u001b[34;49mnotice\u001b[0m\u001b[1;39;49m]\u001b[0m\u001b[39;49m To update, run: \u001b[0m\u001b[32;49mpython3 -m pip install --upgrade pip\u001b[0m\n"
     ]
    }
   ],
   "source": [
    "pip install nltk"
   ]
  },
  {
   "cell_type": "code",
   "execution_count": 141,
   "id": "dd49c55d-409c-4c0e-85d9-6b4909d5ff2b",
   "metadata": {
    "execution": {
     "iopub.execute_input": "2025-05-17T20:19:05.892498Z",
     "iopub.status.busy": "2025-05-17T20:19:05.891393Z",
     "iopub.status.idle": "2025-05-17T20:19:06.059768Z",
     "shell.execute_reply": "2025-05-17T20:19:06.058956Z",
     "shell.execute_reply.started": "2025-05-17T20:19:05.892455Z"
    },
    "scrolled": true,
    "tags": []
   },
   "outputs": [],
   "source": [
    "import pandas as pd\n",
    "import matplotlib.pyplot as plt\n",
    "import seaborn as sns\n",
    "from collections import Counter\n",
    "import numpy as np\n",
    "from sklearn.model_selection import train_test_split\n",
    "from sklearn.preprocessing import MultiLabelBinarizer\n",
    "from sklearn.metrics import f1_score, precision_score, recall_score, accuracy_score, classification_report\n",
    "from sklearn.feature_extraction.text import TfidfVectorizer\n",
    "import tensorflow as tf\n",
    "from tensorflow.keras.models import Sequential\n",
    "from tensorflow.keras.layers import Dense, Dropout\n",
    "from tensorflow.keras.callbacks import EarlyStopping, ModelCheckpoint, ReduceLROnPlateau, LearningRateScheduler\n",
    "from tensorflow.keras.optimizers import Adam\n",
    "from tensorflow.keras.metrics import Precision, Recall\n",
    "from gensim.models import Word2Vec\n",
    "from tensorflow.keras.preprocessing.sequence import pad_sequences\n",
    "from tensorflow.keras.preprocessing.text import Tokenizer \n",
    "from tensorflow.keras.layers import Embedding, LSTM, Bidirectional\n",
    "from tensorflow.keras.layers import Conv1D, GlobalMaxPooling1D\n",
    "from transformers import LlamaTokenizer, LlamaForSequenceClassification, TrainingArguments, AutoTokenizer\n",
    "from transformers import DataCollatorWithPadding, LlamaTokenizerFast\n",
    "import torch\n",
    "from torch.utils.data import Dataset\n",
    "from transformers import pipeline\n",
    "import re\n",
    "import string\n",
    "from nltk.corpus import stopwords\n",
    "from nltk.stem import WordNetLemmatizer\n",
    "import zipfile\n",
    "from peft import LoraConfig, get_peft_model\n",
    "from torch.cuda.amp import autocast\n",
    "from ctransformers import AutoModelForCausalLM\n",
    "from torch.optim.lr_scheduler import LambdaLR\n",
    "import os"
   ]
  },
  {
   "cell_type": "code",
   "execution_count": 13,
   "id": "6bc90be1-b8de-43fa-86b7-36c1d1b62611",
   "metadata": {
    "execution": {
     "iopub.execute_input": "2025-05-17T14:39:06.015643Z",
     "iopub.status.busy": "2025-05-17T14:39:06.014693Z",
     "iopub.status.idle": "2025-05-17T14:39:08.872834Z",
     "shell.execute_reply": "2025-05-17T14:39:08.872006Z",
     "shell.execute_reply.started": "2025-05-17T14:39:06.015593Z"
    },
    "tags": []
   },
   "outputs": [
    {
     "name": "stdout",
     "output_type": "stream",
     "text": [
      "Warning: Your Kaggle API key is readable by other users on this system! To fix this, you can run 'chmod 600 /home/jupyter/work/resources/kaggle.json'\n",
      "Downloading dl-2025-study-competition-2.zip to /home/jupyter/work/resources\n",
      "\n"
     ]
    },
    {
     "name": "stderr",
     "output_type": "stream",
     "text": [
      "100%|██████████| 12.9M/12.9M [00:01<00:00, 10.4MB/s]\n"
     ]
    }
   ],
   "source": [
    "!kaggle competitions download -c dl-2025-study-competition-2"
   ]
  },
  {
   "cell_type": "code",
   "execution_count": 14,
   "id": "7c0a34d5-38d9-48bf-be0f-d4e28ca5e97c",
   "metadata": {
    "execution": {
     "iopub.execute_input": "2025-05-17T14:39:53.946017Z",
     "iopub.status.busy": "2025-05-17T14:39:53.945164Z",
     "iopub.status.idle": "2025-05-17T14:39:56.571309Z",
     "shell.execute_reply": "2025-05-17T14:39:56.570592Z",
     "shell.execute_reply.started": "2025-05-17T14:39:53.945992Z"
    },
    "tags": []
   },
   "outputs": [],
   "source": [
    "from kaggle.api.kaggle_api_extended import KaggleApi\n",
    "\n",
    "with zipfile.ZipFile('dl-2025-study-competition-2.zip', 'r') as zip_ref:\n",
    "    zip_ref.extractall('data')\n",
    "\n",
    "train_df = pd.read_csv('data/train.csv')\n",
    "test_df = pd.read_csv('data/test.csv')\n",
    "submission_df = pd.read_csv('data/sample_submission.csv')  "
   ]
  },
  {
   "cell_type": "code",
   "execution_count": 15,
   "id": "b69a3e8b-806b-47a4-ba37-65214ac79072",
   "metadata": {
    "execution": {
     "iopub.execute_input": "2025-05-17T14:39:59.007559Z",
     "iopub.status.busy": "2025-05-17T14:39:59.006479Z",
     "iopub.status.idle": "2025-05-17T14:39:59.102368Z",
     "shell.execute_reply": "2025-05-17T14:39:59.101520Z",
     "shell.execute_reply.started": "2025-05-17T14:39:59.007526Z"
    },
    "tags": []
   },
   "outputs": [
    {
     "name": "stdout",
     "output_type": "stream",
     "text": [
      "(29568, 3) (7392, 2)\n",
      "   id  ...                                   labels\n",
      "0   0  ...  1 0 0 0 1 0 0 0 1 0 0 0 1 1 1 1 1 0 0 1\n",
      "1   1  ...  0 0 0 1 0 0 0 0 1 0 0 0 1 1 0 1 1 0 0 1\n",
      "2   2  ...  0 0 0 0 1 0 0 0 0 0 0 0 1 1 0 1 1 0 0 1\n",
      "3   3  ...  1 1 0 0 1 0 0 1 1 1 1 1 1 1 1 0 0 1 1 0\n",
      "4   4  ...  1 1 0 0 0 0 0 1 1 0 0 1 1 1 1 0 1 1 1 0\n",
      "\n",
      "[5 rows x 3 columns]\n"
     ]
    }
   ],
   "source": [
    "print(train_df.shape,\n",
    "      test_df.shape)\n",
    "print(train_df.head())"
   ]
  },
  {
   "cell_type": "code",
   "execution_count": 16,
   "id": "07043571-4f9b-41ff-9bd1-7cab292f65e7",
   "metadata": {
    "execution": {
     "iopub.execute_input": "2025-05-17T14:40:02.481483Z",
     "iopub.status.busy": "2025-05-17T14:40:02.480360Z",
     "iopub.status.idle": "2025-05-17T14:40:02.638322Z",
     "shell.execute_reply": "2025-05-17T14:40:02.637481Z",
     "shell.execute_reply.started": "2025-05-17T14:40:02.481439Z"
    },
    "tags": []
   },
   "outputs": [
    {
     "data": {
      "text/plain": [
       "id         int64\n",
       "text      object\n",
       "labels    object\n",
       "dtype: object"
      ]
     },
     "execution_count": 16,
     "metadata": {},
     "output_type": "execute_result"
    }
   ],
   "source": [
    "train_df.dtypes"
   ]
  },
  {
   "cell_type": "code",
   "execution_count": 17,
   "id": "5fc02796-6e1b-4b4f-8e3f-a285dcebc669",
   "metadata": {
    "execution": {
     "iopub.execute_input": "2025-05-17T14:40:11.888999Z",
     "iopub.status.busy": "2025-05-17T14:40:11.888059Z",
     "iopub.status.idle": "2025-05-17T14:40:11.991665Z",
     "shell.execute_reply": "2025-05-17T14:40:11.990891Z",
     "shell.execute_reply.started": "2025-05-17T14:40:11.888958Z"
    },
    "tags": []
   },
   "outputs": [],
   "source": [
    "def convert_labels(label_str):\n",
    "    \"\"\"Преобразует строку с метками в список числовых значений\"\"\"\n",
    "    return [int(x) for x in label_str.split()]\n",
    "\n",
    "train_df['labels'] = train_df['labels'].apply(convert_labels)\n"
   ]
  },
  {
   "cell_type": "code",
   "execution_count": 18,
   "id": "5b885dd8-7b75-4819-bf39-5a0dbe0c67f4",
   "metadata": {
    "execution": {
     "iopub.execute_input": "2025-05-17T14:40:12.618470Z",
     "iopub.status.busy": "2025-05-17T14:40:12.617528Z",
     "iopub.status.idle": "2025-05-17T14:40:12.718026Z",
     "shell.execute_reply": "2025-05-17T14:40:12.717269Z",
     "shell.execute_reply.started": "2025-05-17T14:40:12.618431Z"
    },
    "tags": []
   },
   "outputs": [
    {
     "name": "stdout",
     "output_type": "stream",
     "text": [
      "Форма матрицы признаков: (29568,)\n",
      "Форма матрицы меток: (29568, 2)\n",
      "Количество классов: 2\n",
      "\n",
      "Пример данных:\n",
      "Текст: 15 января\n",
      "Детская развлекательная программа\n",
      "15-00 бесплатно\n",
      "❗️\n",
      "@\n",
      "cafeotdyh\n",
      "Кафе \"Отдых\"\n",
      "📍\n",
      "Запись обязательно +73472228532\n",
      "Метки: [1 1]\n",
      "Имена классов: [0 1]\n"
     ]
    }
   ],
   "source": [
    "mlb = MultiLabelBinarizer()\n",
    "y = mlb.fit_transform(train_df['labels'])\n",
    "num_classes = y.shape[1]\n",
    "\n",
    "X = train_df['text']\n",
    "y = y  # Матрица меток\n",
    "\n",
    "print(\"Форма матрицы признаков:\", X.shape)\n",
    "print(\"Форма матрицы меток:\", y.shape)\n",
    "print(\"Количество классов:\", num_classes)\n",
    "print(\"\\nПример данных:\")\n",
    "print(\"Текст:\", X.iloc[0])\n",
    "print(\"Метки:\", y[0])\n",
    "print(\"Имена классов:\", mlb.classes_)"
   ]
  },
  {
   "cell_type": "code",
   "execution_count": 19,
   "id": "564cecd6-61b7-4ac2-bf49-1b88c8b8454c",
   "metadata": {
    "execution": {
     "iopub.execute_input": "2025-05-17T14:40:20.136792Z",
     "iopub.status.busy": "2025-05-17T14:40:20.135865Z",
     "iopub.status.idle": "2025-05-17T14:40:20.667159Z",
     "shell.execute_reply": "2025-05-17T14:40:20.666472Z",
     "shell.execute_reply.started": "2025-05-17T14:40:20.136752Z"
    },
    "tags": []
   },
   "outputs": [
    {
     "name": "stdout",
     "output_type": "stream",
     "text": [
      "Пример очищенного текста:\n",
      "15 января Детская развлекательная программа 15-00 бесплатно ❗️ @ cafeotdyh Кафе \"Отдых\" 📍 Запись обязательно +73472228532\n"
     ]
    }
   ],
   "source": [
    "def clean_text(text):\n",
    "    text = text.replace('\\n', ' ')\n",
    "    text = ' '.join(text.split())\n",
    "    return text\n",
    "\n",
    "train_df['cleaned_text'] = train_df['text'].apply(clean_text)\n",
    "test_df['cleaned_text'] = test_df['text'].apply(clean_text)\n",
    "\n",
    "print(\"Пример очищенного текста:\")\n",
    "print(train_df['cleaned_text'].iloc[0])"
   ]
  },
  {
   "cell_type": "code",
   "execution_count": 20,
   "id": "a5593fb9-1efe-458a-844d-ea6436a074a2",
   "metadata": {
    "execution": {
     "iopub.execute_input": "2025-05-17T14:40:21.394742Z",
     "iopub.status.busy": "2025-05-17T14:40:21.393666Z",
     "iopub.status.idle": "2025-05-17T14:40:21.791186Z",
     "shell.execute_reply": "2025-05-17T14:40:21.790461Z",
     "shell.execute_reply.started": "2025-05-17T14:40:21.394698Z"
    },
    "tags": []
   },
   "outputs": [
    {
     "data": {
      "image/png": "[encoded data removed]",
      "text/plain": [
       "<Figure size 1200x600 with 1 Axes>"
      ]
     },
     "metadata": {},
     "output_type": "display_data"
    }
   ],
   "source": [
    "# Анализ распределения меток\n",
    "label_counts = pd.Series(y.sum(axis=0), \n",
    "                        index=[f'Class_{i}' for i in range(y.shape[1])])\n",
    "\n",
    "plt.figure(figsize=(12, 6))\n",
    "label_counts.sort_values().plot(kind='barh', color='skyblue')\n",
    "plt.title('Распределение меток в датасете')\n",
    "plt.xlabel('Количество примеров')\n",
    "plt.ylabel('Классы')\n",
    "plt.grid(axis='x', linestyle='--', alpha=0.7)\n",
    "plt.show()"
   ]
  },
  {
   "cell_type": "code",
   "execution_count": 21,
   "id": "c55de27f-9e51-42e8-992d-82d2d5f2b913",
   "metadata": {
    "execution": {
     "iopub.execute_input": "2025-05-17T14:40:25.031127Z",
     "iopub.status.busy": "2025-05-17T14:40:25.030270Z",
     "iopub.status.idle": "2025-05-17T14:40:25.243029Z",
     "shell.execute_reply": "2025-05-17T14:40:25.242314Z",
     "shell.execute_reply.started": "2025-05-17T14:40:25.031100Z"
    },
    "tags": []
   },
   "outputs": [
    {
     "data": {
      "image/png": "[encoded data removed]",
      "text/plain": [
       "<Figure size 1000x500 with 1 Axes>"
      ]
     },
     "metadata": {},
     "output_type": "display_data"
    }
   ],
   "source": [
    "# Анализ длины текстов\n",
    "train_df['text_length'] = train_df['text'].apply(len)\n",
    "plt.figure(figsize=(10, 5))\n",
    "plt.hist(train_df['text_length'], bins=50, color='lightgreen')\n",
    "plt.title('Распределение длины текстов')\n",
    "plt.xlabel('Длина текста (символы)')\n",
    "plt.ylabel('Количество')\n",
    "plt.show()"
   ]
  },
  {
   "cell_type": "markdown",
   "id": "b2cf326f-6511-428f-b8cd-2f7cb651c3ee",
   "metadata": {},
   "source": [
    "# TF-IDF + Нейронная сеть"
   ]
  },
  {
   "cell_type": "code",
   "execution_count": 27,
   "id": "b079ef4d-2faf-441c-9d93-b6a4f474dc9c",
   "metadata": {
    "execution": {
     "iopub.execute_input": "2025-05-17T14:41:53.296515Z",
     "iopub.status.busy": "2025-05-17T14:41:53.295557Z",
     "iopub.status.idle": "2025-05-17T14:42:00.633140Z",
     "shell.execute_reply": "2025-05-17T14:42:00.632412Z",
     "shell.execute_reply.started": "2025-05-17T14:41:53.296473Z"
    },
    "tags": []
   },
   "outputs": [
    {
     "name": "stderr",
     "output_type": "stream",
     "text": [
      "[nltk_data] Downloading package punkt to /home/jupyter/nltk_data...\n",
      "[nltk_data]   Unzipping tokenizers/punkt.zip.\n",
      "[nltk_data] Downloading package punkt_tab to\n",
      "[nltk_data]     /home/jupyter/nltk_data...\n",
      "[nltk_data]   Unzipping tokenizers/punkt_tab.zip.\n",
      "[nltk_data] Downloading package stopwords to\n",
      "[nltk_data]     /home/jupyter/nltk_data...\n",
      "[nltk_data]   Unzipping corpora/stopwords.zip.\n",
      "[nltk_data] Downloading package wordnet to /home/jupyter/nltk_data...\n"
     ]
    },
    {
     "data": {
      "text/plain": [
       "True"
      ]
     },
     "execution_count": 27,
     "metadata": {},
     "output_type": "execute_result"
    }
   ],
   "source": [
    "import nltk\n",
    "nltk.download('punkt')  # Основные данные для word_tokenize\n",
    "nltk.download('punkt_tab')  # Дополнительные таблицы для токенизации\n",
    "nltk.download('stopwords')  # Для будущей очистки от стоп-слов\n",
    "nltk.download('wordnet')  # Для лемматизации"
   ]
  },
  {
   "cell_type": "code",
   "execution_count": 28,
   "id": "3588de03-fef0-4f49-b50d-ad6a7e98f0e1",
   "metadata": {
    "execution": {
     "iopub.execute_input": "2025-05-17T14:42:06.145086Z",
     "iopub.status.busy": "2025-05-17T14:42:06.144209Z",
     "iopub.status.idle": "2025-05-17T14:42:17.126656Z",
     "shell.execute_reply": "2025-05-17T14:42:17.125929Z",
     "shell.execute_reply.started": "2025-05-17T14:42:06.145058Z"
    },
    "tags": []
   },
   "outputs": [],
   "source": [
    "def tfidf_clean(text):\n",
    "    # Удаление URL, дат (например, \"13 января\"), эмодзи\n",
    "    text = re.sub(r'http\\S+|www\\S+|https\\S+|[\\d]{1,2}\\s*[а-яА-Я]+', '', text, flags=re.MULTILINE)\n",
    "    text = re.sub(r'[^\\w\\s]|[\\U0001F600-\\U0001F64F]', '', text)  # Эмодзи и пунктуация\n",
    "    \n",
    "    text = text.lower()\n",
    "    \n",
    "    # Удаление стоп-слов и лемматизация\n",
    "    stop_words = set(stopwords.words('russian'))\n",
    "    lemmatizer = WordNetLemmatizer()\n",
    "    tokens = text.split()\n",
    "    tokens = [lemmatizer.lemmatize(token) for token in tokens if token not in stop_words]\n",
    "    \n",
    "    return ' '.join(tokens)\n",
    "\n",
    "train_df['cleaned_tfidf'] = train_df['text'].apply(tfidf_clean)"
   ]
  },
  {
   "cell_type": "markdown",
   "id": "4664ecbf-f0c8-40db-8b84-b24af39fb755",
   "metadata": {},
   "source": [
    "# Word2Vec + Нейронная сеть"
   ]
  },
  {
   "cell_type": "code",
   "execution_count": 58,
   "id": "3fd7a346-13fd-4f4a-8629-4d69d0ca09bd",
   "metadata": {
    "execution": {
     "iopub.execute_input": "2025-05-17T15:35:19.996647Z",
     "iopub.status.busy": "2025-05-17T15:35:19.995605Z",
     "iopub.status.idle": "2025-05-17T15:35:41.485093Z",
     "shell.execute_reply": "2025-05-17T15:35:41.484442Z",
     "shell.execute_reply.started": "2025-05-17T15:35:19.996616Z"
    },
    "tags": []
   },
   "outputs": [],
   "source": [
    "from nltk.tokenize import word_tokenize\n",
    "def w2v_clean(text):\n",
    "    # Удаление URL и специальных символов (но сохраняем пунктуацию для контекста)\n",
    "    text = re.sub(r'http\\S+|www\\S+|https\\S+', '', text)\n",
    "    text = re.sub(r'[\\d]{1,2}\\s*[а-яА-Я]+', '', text)  # Даты\n",
    "    \n",
    "    # Токенизация без удаления стоп-слов (для сохранения контекста)\n",
    "    tokens = word_tokenize(text.lower())\n",
    "    tokens = [token for token in tokens if token.isalpha()]  # Только слова\n",
    "    \n",
    "    return ' '.join(tokens) \n",
    "\n",
    "train_df['cleaned_w2v'] = train_df['text'].apply(w2v_clean)"
   ]
  },
  {
   "cell_type": "markdown",
   "id": "0c1ea796-8068-45ee-9baf-8055397a3d34",
   "metadata": {},
   "source": [
    "# CNN со встроенным эмбеддингом"
   ]
  },
  {
   "cell_type": "code",
   "execution_count": 59,
   "id": "cc10af3a-4790-4a98-a92a-8fb646908aa9",
   "metadata": {
    "execution": {
     "iopub.execute_input": "2025-05-17T15:35:49.489195Z",
     "iopub.status.busy": "2025-05-17T15:35:49.488023Z",
     "iopub.status.idle": "2025-05-17T15:36:11.021957Z",
     "shell.execute_reply": "2025-05-17T15:36:11.021114Z",
     "shell.execute_reply.started": "2025-05-17T15:35:49.489146Z"
    },
    "tags": []
   },
   "outputs": [],
   "source": [
    "def cnn_clean(text):\n",
    "    # Удаление URL, но сохранение пунктуации и чисел\n",
    "    text = re.sub(r'http\\S+|www\\S+|https\\S+', '', text)\n",
    "    text = re.sub(r'[\\U0001F600-\\U0001F64F]', '', text)  # Только эмодзи\n",
    "    \n",
    "    # Токенизация с сохранением пунктуации для n-грамм\n",
    "    tokens = word_tokenize(text.lower())\n",
    "    tokens = [token for token in tokens if token not in ['«', '»', '...']]  # Частые \"мусорные\" символы\n",
    "    \n",
    "    return ' '.join(tokens)\n",
    "\n",
    "train_df['cleaned_cnn'] = train_df['text'].apply(cnn_clean)"
   ]
  },
  {
   "cell_type": "markdown",
   "id": "0512d526-05e9-400f-9c8b-f35f6b6b7b16",
   "metadata": {},
   "source": [
    "# RNN со встроенным эмбеддингом"
   ]
  },
  {
   "cell_type": "code",
   "execution_count": 60,
   "id": "c806e6fe-bc10-4d5e-98e9-d8dfe66af411",
   "metadata": {
    "execution": {
     "iopub.execute_input": "2025-05-17T15:36:31.100032Z",
     "iopub.status.busy": "2025-05-17T15:36:31.098929Z",
     "iopub.status.idle": "2025-05-17T15:36:51.298237Z",
     "shell.execute_reply": "2025-05-17T15:36:51.297399Z",
     "shell.execute_reply.started": "2025-05-17T15:36:31.099987Z"
    },
    "tags": []
   },
   "outputs": [],
   "source": [
    "def rnn_clean(text):\n",
    "    # Удаление URL и дат\n",
    "    text = re.sub(r'http\\S+|www\\S+|https\\S+|[\\d]{1,2}\\s*[а-яА-Я]+', '', text)\n",
    "    \n",
    "    # Удаление редких символов, но сохранение пунктуации\n",
    "    text = re.sub(r'[^\\w\\s.,!?]', '', text)\n",
    "    \n",
    "    # Токенизация с ограничением длины\n",
    "    tokens = word_tokenize(text.lower())\n",
    "    tokens = tokens[:100]  # Ограничение длины для RNN\n",
    "    \n",
    "    return ' '.join(tokens)\n",
    "\n",
    "train_df['cleaned_rnn'] = train_df['text'].apply(rnn_clean)"
   ]
  },
  {
   "cell_type": "markdown",
   "id": "a5ec2ca7-70b3-4927-99c5-e1a0141b213d",
   "metadata": {},
   "source": [
    "# LLaMa"
   ]
  },
  {
   "cell_type": "code",
   "execution_count": 33,
   "id": "6538850f-35d4-401b-9dcb-1d8c96107ab4",
   "metadata": {
    "execution": {
     "iopub.execute_input": "2025-05-17T14:47:23.927072Z",
     "iopub.status.busy": "2025-05-17T14:47:23.926085Z",
     "iopub.status.idle": "2025-05-17T14:47:24.593533Z",
     "shell.execute_reply": "2025-05-17T14:47:24.592780Z",
     "shell.execute_reply.started": "2025-05-17T14:47:23.927031Z"
    },
    "tags": []
   },
   "outputs": [],
   "source": [
    "def llama_clean(text):\n",
    "    text = re.sub(r'http\\S+|www\\S+|https\\S+', '[URL]', text)  # Замена URL на специальный токен\n",
    "    text = re.sub(r'[\\d]{1,2}\\s*[а-яА-Я]+', '[DATE]', text)    # Даты\n",
    "    return text.strip()  # Без токенизации!\n",
    "\n",
    "train_df['cleaned_llama'] = train_df['text'].apply(llama_clean)"
   ]
  },
  {
   "cell_type": "markdown",
   "id": "7bc6f243-96a8-4b16-bad2-e9bb2df55bc1",
   "metadata": {},
   "source": [
    "# Пайплайн"
   ]
  },
  {
   "cell_type": "code",
   "execution_count": 61,
   "id": "24a1b3cc-39d1-40f5-82f4-21133f19ed03",
   "metadata": {
    "execution": {
     "iopub.execute_input": "2025-05-17T15:36:57.488208Z",
     "iopub.status.busy": "2025-05-17T15:36:57.487182Z",
     "iopub.status.idle": "2025-05-17T15:38:29.510769Z",
     "shell.execute_reply": "2025-05-17T15:38:29.509922Z",
     "shell.execute_reply.started": "2025-05-17T15:36:57.488167Z"
    },
    "tags": []
   },
   "outputs": [],
   "source": [
    "pipelines = {\n",
    "    'tfidf': tfidf_clean,\n",
    "    'w2v': w2v_clean,\n",
    "    'cnn': cnn_clean,\n",
    "    'rnn': rnn_clean,\n",
    "    'llama': llama_clean\n",
    "}\n",
    "\n",
    "for name, pipeline in pipelines.items():\n",
    "    train_df[f'cleaned_{name}'] = train_df['text'].apply(pipeline)\n",
    "    test_df[f'cleaned_{name}'] = test_df['text'].apply(pipeline)"
   ]
  },
  {
   "cell_type": "code",
   "execution_count": 35,
   "id": "6bc88bf8-d6c5-4aaf-b368-3d53fcdafbee",
   "metadata": {
    "execution": {
     "iopub.execute_input": "2025-05-17T14:49:18.241434Z",
     "iopub.status.busy": "2025-05-17T14:49:18.240430Z",
     "iopub.status.idle": "2025-05-17T14:49:18.329670Z",
     "shell.execute_reply": "2025-05-17T14:49:18.328963Z",
     "shell.execute_reply.started": "2025-05-17T14:49:18.241404Z"
    },
    "tags": []
   },
   "outputs": [
    {
     "name": "stdout",
     "output_type": "stream",
     "text": [
      "   id  ...                                      cleaned_llama\n",
      "0   0  ...  [DATE]\\nДетская развлекательная программа\\n15-...\n",
      "1   1  ...    [DATE] [DATE]\\nВыходные в Меге\\n[URL]\\nМегапарк\n",
      "2   2  ...  Йокнапатофа\\nПостановка Театр им. Маяковского\\...\n",
      "3   3  ...  Впервые в Уфе танцевальная терапия в группе с ...\n",
      "4   4  ...  🎹\\nGRAND PIANO COMPETITION\\n🎹\\nДрузья, сегодня...\n",
      "\n",
      "[5 rows x 10 columns]\n"
     ]
    }
   ],
   "source": [
    "print(train_df.head())"
   ]
  },
  {
   "cell_type": "code",
   "execution_count": 36,
   "id": "4c3d09a8-4509-493d-bb2c-40e1202c6cfd",
   "metadata": {
    "execution": {
     "iopub.execute_input": "2025-05-17T14:49:38.503892Z",
     "iopub.status.busy": "2025-05-17T14:49:38.502852Z",
     "iopub.status.idle": "2025-05-17T14:49:38.646698Z",
     "shell.execute_reply": "2025-05-17T14:49:38.645788Z",
     "shell.execute_reply.started": "2025-05-17T14:49:38.503846Z"
    }
   },
   "outputs": [
    {
     "data": {
      "text/plain": [
       "Index(['id', 'text', 'labels', 'cleaned_text', 'text_length', 'cleaned_tfidf',\n",
       "       'cleaned_w2v', 'cleaned_cnn', 'cleaned_rnn', 'cleaned_llama'],\n",
       "      dtype='object')"
      ]
     },
     "execution_count": 36,
     "metadata": {},
     "output_type": "execute_result"
    }
   ],
   "source": [
    "train_df.columns"
   ]
  },
  {
   "cell_type": "markdown",
   "id": "b8e4dfdd-5246-4106-862f-cad4c9457d54",
   "metadata": {},
   "source": [
    "# Обучение"
   ]
  },
  {
   "cell_type": "code",
   "execution_count": 37,
   "id": "0b419d0d-c1f1-4f1c-8cf2-7c9731cf8234",
   "metadata": {
    "execution": {
     "iopub.execute_input": "2025-05-17T14:49:42.211568Z",
     "iopub.status.busy": "2025-05-17T14:49:42.210612Z",
     "iopub.status.idle": "2025-05-17T14:49:42.229409Z",
     "shell.execute_reply": "2025-05-17T14:49:42.228770Z",
     "shell.execute_reply.started": "2025-05-17T14:49:42.211526Z"
    }
   },
   "outputs": [],
   "source": [
    "def get_callbacks(model_name):\n",
    "    return [\n",
    "        EarlyStopping(patience=3, monitor='val_loss', restore_best_weights=True),\n",
    "        ModelCheckpoint(f'best_{model_name}.h5', save_best_only=True),\n",
    "        ReduceLROnPlateau(monitor='val_loss', factor=0.1, patience=2),\n",
    "        LearningRateScheduler(lambda epoch, lr: lr * 0.95 if epoch > 5 else lr)\n",
    "    ]"
   ]
  },
  {
   "cell_type": "code",
   "execution_count": 38,
   "id": "1a60aac7-938c-491b-a787-b4ed6b00c18c",
   "metadata": {
    "execution": {
     "iopub.execute_input": "2025-05-17T14:49:43.540394Z",
     "iopub.status.busy": "2025-05-17T14:49:43.539398Z",
     "iopub.status.idle": "2025-05-17T14:49:43.568853Z",
     "shell.execute_reply": "2025-05-17T14:49:43.568177Z",
     "shell.execute_reply.started": "2025-05-17T14:49:43.540355Z"
    }
   },
   "outputs": [],
   "source": [
    "from tensorflow.keras import backend as K\n",
    "\n",
    "def macro_f1(y_true, y_pred):\n",
    "    y_pred = K.round(y_pred)\n",
    "    tp = K.sum(K.cast(y_true * y_pred, 'float'), axis=0)\n",
    "    fp = K.sum(K.cast((1-y_true) * y_pred, 'float'), axis=0)\n",
    "    fn = K.sum(K.cast(y_true * (1-y_pred), 'float'), axis=0)\n",
    "\n",
    "    precision = tp / (tp + fp + K.epsilon())\n",
    "    recall = tp / (tp + fn + K.epsilon())\n",
    "\n",
    "    f1 = 2 * precision * recall / (precision + recall + K.epsilon())\n",
    "    macro_f1 = K.mean(f1)\n",
    "    return macro_f1"
   ]
  },
  {
   "cell_type": "code",
   "execution_count": 40,
   "id": "6a582449-5428-4a6f-ba84-10d74ef39f72",
   "metadata": {
    "execution": {
     "iopub.execute_input": "2025-05-17T14:52:00.575134Z",
     "iopub.status.busy": "2025-05-17T14:52:00.574168Z",
     "iopub.status.idle": "2025-05-17T14:52:00.697818Z",
     "shell.execute_reply": "2025-05-17T14:52:00.696969Z",
     "shell.execute_reply.started": "2025-05-17T14:52:00.575092Z"
    },
    "tags": []
   },
   "outputs": [],
   "source": [
    "def labels_to_matrix(labels_series):\n",
    "    \"\"\"\n",
    "    Преобразует список списков в numpy array\n",
    "    (уже не нужно использовать split, так как данные уже в виде списков)\n",
    "    \"\"\"\n",
    "    return np.array([list(map(int, lst)) for lst in labels_series])\n",
    "\n",
    "labels = labels_to_matrix(train_df['labels'])\n",
    "X = train_df\n",
    "X_train, X_val, y_train, y_val = train_test_split(X, labels, test_size=0.2, random_state=42)"
   ]
  },
  {
   "cell_type": "markdown",
   "id": "dfee066a-6794-4d86-9a0f-488e3de0977a",
   "metadata": {},
   "source": [
    "## TF-IDF + НН"
   ]
  },
  {
   "cell_type": "code",
   "execution_count": 159,
   "id": "da232c18-0d63-4eed-999a-f00805f456c0",
   "metadata": {
    "execution": {
     "iopub.execute_input": "2025-05-17T20:34:24.961553Z",
     "iopub.status.busy": "2025-05-17T20:34:24.960461Z",
     "iopub.status.idle": "2025-05-17T20:35:05.984943Z",
     "shell.execute_reply": "2025-05-17T20:35:05.984022Z",
     "shell.execute_reply.started": "2025-05-17T20:34:24.961509Z"
    },
    "tags": []
   },
   "outputs": [
    {
     "name": "stdout",
     "output_type": "stream",
     "text": [
      "Training TF-IDF + NN...\n",
      "Epoch 1/20\n",
      "365/370 [============================>.] - ETA: 0s - loss: 0.3135 - accuracy: 0.0085 - macro_f1: 0.6915"
     ]
    },
    {
     "name": "stderr",
     "output_type": "stream",
     "text": [
      "/home/jupyter/.local/lib/python3.10/site-packages/keras/src/engine/training.py:3103: UserWarning: You are saving your model as an HDF5 file via `model.save()`. This file format is considered legacy. We recommend using instead the native Keras format, e.g. `model.save('my_model.keras')`.\n",
      "  saving_api.save_model(\n"
     ]
    },
    {
     "name": "stdout",
     "output_type": "stream",
     "text": [
      "370/370 [==============================] - 7s 15ms/step - loss: 0.3125 - accuracy: 0.0087 - macro_f1: 0.6922 - val_loss: 0.2273 - val_accuracy: 0.0157 - val_macro_f1: 0.7511 - lr: 0.0010\n",
      "Epoch 2/20\n",
      "365/370 [============================>.] - ETA: 0s - loss: 0.1959 - accuracy: 0.0182 - macro_f1: 0.7748"
     ]
    },
    {
     "name": "stderr",
     "output_type": "stream",
     "text": [
      "/home/jupyter/.local/lib/python3.10/site-packages/keras/src/engine/training.py:3103: UserWarning: You are saving your model as an HDF5 file via `model.save()`. This file format is considered legacy. We recommend using instead the native Keras format, e.g. `model.save('my_model.keras')`.\n",
      "  saving_api.save_model(\n"
     ]
    },
    {
     "name": "stdout",
     "output_type": "stream",
     "text": [
      "370/370 [==============================] - 5s 14ms/step - loss: 0.1958 - accuracy: 0.0183 - macro_f1: 0.7748 - val_loss: 0.2037 - val_accuracy: 0.0162 - val_macro_f1: 0.7753 - lr: 0.0010\n",
      "Epoch 3/20\n",
      "365/370 [============================>.] - ETA: 0s - loss: 0.1545 - accuracy: 0.0165 - macro_f1: 0.8088"
     ]
    },
    {
     "name": "stderr",
     "output_type": "stream",
     "text": [
      "/home/jupyter/.local/lib/python3.10/site-packages/keras/src/engine/training.py:3103: UserWarning: You are saving your model as an HDF5 file via `model.save()`. This file format is considered legacy. We recommend using instead the native Keras format, e.g. `model.save('my_model.keras')`.\n",
      "  saving_api.save_model(\n"
     ]
    },
    {
     "name": "stdout",
     "output_type": "stream",
     "text": [
      "370/370 [==============================] - 5s 14ms/step - loss: 0.1545 - accuracy: 0.0164 - macro_f1: 0.8085 - val_loss: 0.1995 - val_accuracy: 0.0162 - val_macro_f1: 0.7915 - lr: 0.0010\n",
      "Epoch 4/20\n",
      "370/370 [==============================] - 2s 5ms/step - loss: 0.1263 - accuracy: 0.0168 - macro_f1: 0.8304 - val_loss: 0.2057 - val_accuracy: 0.0149 - val_macro_f1: 0.7939 - lr: 0.0010\n",
      "Epoch 5/20\n",
      "370/370 [==============================] - 2s 5ms/step - loss: 0.1059 - accuracy: 0.0176 - macro_f1: 0.8467 - val_loss: 0.2119 - val_accuracy: 0.0162 - val_macro_f1: 0.7937 - lr: 1.0000e-04\n",
      "Epoch 6/20\n",
      "370/370 [==============================] - 2s 5ms/step - loss: 0.0810 - accuracy: 0.0195 - macro_f1: 0.8660 - val_loss: 0.2129 - val_accuracy: 0.0178 - val_macro_f1: 0.8007 - lr: 1.0000e-04\n"
     ]
    }
   ],
   "source": [
    "print(\"Training TF-IDF + NN...\")\n",
    "tfidf = TfidfVectorizer(max_features=10000)\n",
    "X_train_tfidf = tfidf.fit_transform(X_train['text'].apply(tfidf_clean))\n",
    "X_val_tfidf = tfidf.transform(X_val['text'].apply(tfidf_clean))\n",
    "\n",
    "tfidf_nn = Sequential([\n",
    "    Dense(512, activation='relu', input_shape=(X_train_tfidf.shape[1],)),\n",
    "    Dropout(0.5),\n",
    "    Dense(256, activation='relu'),\n",
    "    Dense(labels.shape[1], activation='sigmoid')\n",
    "])\n",
    "\n",
    "tfidf_nn.compile(\n",
    "    optimizer=Adam(0.001),\n",
    "    loss='binary_crossentropy',\n",
    "    metrics=['accuracy', macro_f1]\n",
    ")\n",
    "\n",
    "history_tfidf = tfidf_nn.fit(\n",
    "    X_train_tfidf.toarray(), y_train,\n",
    "    validation_data=(X_val_tfidf.toarray(), y_val),\n",
    "    epochs=20,\n",
    "    batch_size=64,\n",
    "    callbacks=get_callbacks('tfidf_nn')\n",
    ")"
   ]
  },
  {
   "cell_type": "markdown",
   "id": "e946458f-49f9-4ef1-9fc5-502dc99ea8c1",
   "metadata": {},
   "source": [
    "## Word2Vec + HH"
   ]
  },
  {
   "cell_type": "code",
   "execution_count": 50,
   "id": "dcc8d638-fd0e-4f7a-921c-db3c041adde2",
   "metadata": {
    "execution": {
     "iopub.execute_input": "2025-05-17T15:05:50.375012Z",
     "iopub.status.busy": "2025-05-17T15:05:50.373880Z",
     "iopub.status.idle": "2025-05-17T15:07:12.665884Z",
     "shell.execute_reply": "2025-05-17T15:07:12.665039Z",
     "shell.execute_reply.started": "2025-05-17T15:05:50.374963Z"
    },
    "tags": []
   },
   "outputs": [
    {
     "name": "stdout",
     "output_type": "stream",
     "text": [
      "Training Word2Vec...\n",
      "Creating embeddings...\n",
      "Building NN model...\n",
      "Training NN...\n",
      "Epoch 1/20\n",
      "353/370 [===========================>..] - ETA: 0s - loss: 0.4352 - accuracy: 0.0254 - macro_f1: 0.6587"
     ]
    },
    {
     "name": "stderr",
     "output_type": "stream",
     "text": [
      "/home/jupyter/.local/lib/python3.10/site-packages/keras/src/engine/training.py:3103: UserWarning: You are saving your model as an HDF5 file via `model.save()`. This file format is considered legacy. We recommend using instead the native Keras format, e.g. `model.save('my_model.keras')`.\n",
      "  saving_api.save_model(\n"
     ]
    },
    {
     "name": "stdout",
     "output_type": "stream",
     "text": [
      "370/370 [==============================] - 2s 3ms/step - loss: 0.4333 - accuracy: 0.0257 - macro_f1: 0.6598 - val_loss: 0.3805 - val_accuracy: 0.0299 - val_macro_f1: 0.6909 - lr: 0.0010\n",
      "Epoch 2/20\n",
      "370/370 [==============================] - 1s 3ms/step - loss: 0.3754 - accuracy: 0.0259 - macro_f1: 0.6935 - val_loss: 0.3495 - val_accuracy: 0.0340 - val_macro_f1: 0.7099 - lr: 0.0010\n",
      "Epoch 3/20\n",
      " 22/370 [>.............................] - ETA: 0s - loss: 0.3616 - accuracy: 0.0348 - macro_f1: 0.6994"
     ]
    },
    {
     "name": "stderr",
     "output_type": "stream",
     "text": [
      "/home/jupyter/.local/lib/python3.10/site-packages/keras/src/engine/training.py:3103: UserWarning: You are saving your model as an HDF5 file via `model.save()`. This file format is considered legacy. We recommend using instead the native Keras format, e.g. `model.save('my_model.keras')`.\n",
      "  saving_api.save_model(\n"
     ]
    },
    {
     "name": "stdout",
     "output_type": "stream",
     "text": [
      "370/370 [==============================] - 1s 3ms/step - loss: 0.3551 - accuracy: 0.0274 - macro_f1: 0.7063 - val_loss: 0.3377 - val_accuracy: 0.0232 - val_macro_f1: 0.7130 - lr: 0.0010\n",
      "Epoch 4/20\n",
      "  1/370 [..............................] - ETA: 1s - loss: 0.3634 - accuracy: 0.0312 - macro_f1: 0.7080"
     ]
    },
    {
     "name": "stderr",
     "output_type": "stream",
     "text": [
      "/home/jupyter/.local/lib/python3.10/site-packages/keras/src/engine/training.py:3103: UserWarning: You are saving your model as an HDF5 file via `model.save()`. This file format is considered legacy. We recommend using instead the native Keras format, e.g. `model.save('my_model.keras')`.\n",
      "  saving_api.save_model(\n"
     ]
    },
    {
     "name": "stdout",
     "output_type": "stream",
     "text": [
      "370/370 [==============================] - 1s 3ms/step - loss: 0.3427 - accuracy: 0.0274 - macro_f1: 0.7139 - val_loss: 0.3255 - val_accuracy: 0.0309 - val_macro_f1: 0.7248 - lr: 0.0010\n",
      "Epoch 5/20\n",
      " 43/370 [==>...........................] - ETA: 0s - loss: 0.3366 - accuracy: 0.0211 - macro_f1: 0.7158"
     ]
    },
    {
     "name": "stderr",
     "output_type": "stream",
     "text": [
      "/home/jupyter/.local/lib/python3.10/site-packages/keras/src/engine/training.py:3103: UserWarning: You are saving your model as an HDF5 file via `model.save()`. This file format is considered legacy. We recommend using instead the native Keras format, e.g. `model.save('my_model.keras')`.\n",
      "  saving_api.save_model(\n"
     ]
    },
    {
     "name": "stdout",
     "output_type": "stream",
     "text": [
      "370/370 [==============================] - 1s 3ms/step - loss: 0.3353 - accuracy: 0.0276 - macro_f1: 0.7175 - val_loss: 0.3173 - val_accuracy: 0.0338 - val_macro_f1: 0.7266 - lr: 0.0010\n",
      "Epoch 6/20\n",
      "  1/370 [..............................] - ETA: 1s - loss: 0.3214 - accuracy: 0.0156 - macro_f1: 0.7274"
     ]
    },
    {
     "name": "stderr",
     "output_type": "stream",
     "text": [
      "/home/jupyter/.local/lib/python3.10/site-packages/keras/src/engine/training.py:3103: UserWarning: You are saving your model as an HDF5 file via `model.save()`. This file format is considered legacy. We recommend using instead the native Keras format, e.g. `model.save('my_model.keras')`.\n",
      "  saving_api.save_model(\n"
     ]
    },
    {
     "name": "stdout",
     "output_type": "stream",
     "text": [
      "370/370 [==============================] - 1s 3ms/step - loss: 0.3301 - accuracy: 0.0279 - macro_f1: 0.7208 - val_loss: 0.3115 - val_accuracy: 0.0330 - val_macro_f1: 0.7338 - lr: 0.0010\n",
      "Epoch 7/20\n",
      " 43/370 [==>...........................] - ETA: 0s - loss: 0.3270 - accuracy: 0.0262 - macro_f1: 0.7240"
     ]
    },
    {
     "name": "stderr",
     "output_type": "stream",
     "text": [
      "/home/jupyter/.local/lib/python3.10/site-packages/keras/src/engine/training.py:3103: UserWarning: You are saving your model as an HDF5 file via `model.save()`. This file format is considered legacy. We recommend using instead the native Keras format, e.g. `model.save('my_model.keras')`.\n",
      "  saving_api.save_model(\n"
     ]
    },
    {
     "name": "stdout",
     "output_type": "stream",
     "text": [
      "370/370 [==============================] - 1s 3ms/step - loss: 0.3233 - accuracy: 0.0276 - macro_f1: 0.7251 - val_loss: 0.3068 - val_accuracy: 0.0238 - val_macro_f1: 0.7336 - lr: 9.5000e-04\n",
      "Epoch 8/20\n",
      "  1/370 [..............................] - ETA: 1s - loss: 0.3072 - accuracy: 0.0469 - macro_f1: 0.7507"
     ]
    },
    {
     "name": "stderr",
     "output_type": "stream",
     "text": [
      "/home/jupyter/.local/lib/python3.10/site-packages/keras/src/engine/training.py:3103: UserWarning: You are saving your model as an HDF5 file via `model.save()`. This file format is considered legacy. We recommend using instead the native Keras format, e.g. `model.save('my_model.keras')`.\n",
      "  saving_api.save_model(\n"
     ]
    },
    {
     "name": "stdout",
     "output_type": "stream",
     "text": [
      "360/370 [============================>.] - ETA: 0s - loss: 0.3204 - accuracy: 0.0275 - macro_f1: 0.7264"
     ]
    },
    {
     "name": "stderr",
     "output_type": "stream",
     "text": [
      "/home/jupyter/.local/lib/python3.10/site-packages/keras/src/engine/training.py:3103: UserWarning: You are saving your model as an HDF5 file via `model.save()`. This file format is considered legacy. We recommend using instead the native Keras format, e.g. `model.save('my_model.keras')`.\n",
      "  saving_api.save_model(\n"
     ]
    },
    {
     "name": "stdout",
     "output_type": "stream",
     "text": [
      "370/370 [==============================] - 1s 3ms/step - loss: 0.3201 - accuracy: 0.0276 - macro_f1: 0.7264 - val_loss: 0.3041 - val_accuracy: 0.0208 - val_macro_f1: 0.7364 - lr: 9.0250e-04\n",
      "Epoch 9/20\n",
      "370/370 [==============================] - 1s 3ms/step - loss: 0.3170 - accuracy: 0.0266 - macro_f1: 0.7281 - val_loss: 0.3005 - val_accuracy: 0.0265 - val_macro_f1: 0.7373 - lr: 8.5737e-04\n",
      "Epoch 10/20\n",
      " 22/370 [>.............................] - ETA: 0s - loss: 0.3144 - accuracy: 0.0206 - macro_f1: 0.7271"
     ]
    },
    {
     "name": "stderr",
     "output_type": "stream",
     "text": [
      "/home/jupyter/.local/lib/python3.10/site-packages/keras/src/engine/training.py:3103: UserWarning: You are saving your model as an HDF5 file via `model.save()`. This file format is considered legacy. We recommend using instead the native Keras format, e.g. `model.save('my_model.keras')`.\n",
      "  saving_api.save_model(\n"
     ]
    },
    {
     "name": "stdout",
     "output_type": "stream",
     "text": [
      "359/370 [============================>.] - ETA: 0s - loss: 0.3130 - accuracy: 0.0288 - macro_f1: 0.7306"
     ]
    },
    {
     "name": "stderr",
     "output_type": "stream",
     "text": [
      "/home/jupyter/.local/lib/python3.10/site-packages/keras/src/engine/training.py:3103: UserWarning: You are saving your model as an HDF5 file via `model.save()`. This file format is considered legacy. We recommend using instead the native Keras format, e.g. `model.save('my_model.keras')`.\n",
      "  saving_api.save_model(\n"
     ]
    },
    {
     "name": "stdout",
     "output_type": "stream",
     "text": [
      "370/370 [==============================] - 1s 3ms/step - loss: 0.3134 - accuracy: 0.0287 - macro_f1: 0.7302 - val_loss: 0.2983 - val_accuracy: 0.0228 - val_macro_f1: 0.7353 - lr: 8.1451e-04\n",
      "Epoch 11/20\n",
      "370/370 [==============================] - 1s 3ms/step - loss: 0.3108 - accuracy: 0.0287 - macro_f1: 0.7313 - val_loss: 0.2960 - val_accuracy: 0.0223 - val_macro_f1: 0.7363 - lr: 7.7378e-04\n",
      "Epoch 12/20\n",
      "  1/370 [..............................] - ETA: 1s - loss: 0.3126 - accuracy: 0.0625 - macro_f1: 0.7253"
     ]
    },
    {
     "name": "stderr",
     "output_type": "stream",
     "text": [
      "/home/jupyter/.local/lib/python3.10/site-packages/keras/src/engine/training.py:3103: UserWarning: You are saving your model as an HDF5 file via `model.save()`. This file format is considered legacy. We recommend using instead the native Keras format, e.g. `model.save('my_model.keras')`.\n",
      "  saving_api.save_model(\n"
     ]
    },
    {
     "name": "stdout",
     "output_type": "stream",
     "text": [
      "370/370 [==============================] - 1s 3ms/step - loss: 0.3093 - accuracy: 0.0293 - macro_f1: 0.7317 - val_loss: 0.2939 - val_accuracy: 0.0306 - val_macro_f1: 0.7416 - lr: 7.3509e-04\n",
      "Epoch 13/20\n",
      " 22/370 [>.............................] - ETA: 0s - loss: 0.3067 - accuracy: 0.0241 - macro_f1: 0.7340"
     ]
    },
    {
     "name": "stderr",
     "output_type": "stream",
     "text": [
      "/home/jupyter/.local/lib/python3.10/site-packages/keras/src/engine/training.py:3103: UserWarning: You are saving your model as an HDF5 file via `model.save()`. This file format is considered legacy. We recommend using instead the native Keras format, e.g. `model.save('my_model.keras')`.\n",
      "  saving_api.save_model(\n"
     ]
    },
    {
     "name": "stdout",
     "output_type": "stream",
     "text": [
      "370/370 [==============================] - 1s 3ms/step - loss: 0.3056 - accuracy: 0.0306 - macro_f1: 0.7341 - val_loss: 0.2942 - val_accuracy: 0.0294 - val_macro_f1: 0.7383 - lr: 6.9834e-04\n",
      "Epoch 14/20\n",
      "370/370 [==============================] - 1s 3ms/step - loss: 0.3052 - accuracy: 0.0320 - macro_f1: 0.7336 - val_loss: 0.2908 - val_accuracy: 0.0357 - val_macro_f1: 0.7423 - lr: 6.6342e-04\n",
      "Epoch 15/20\n",
      " 43/370 [==>...........................] - ETA: 0s - loss: 0.3029 - accuracy: 0.0360 - macro_f1: 0.7375"
     ]
    },
    {
     "name": "stderr",
     "output_type": "stream",
     "text": [
      "/home/jupyter/.local/lib/python3.10/site-packages/keras/src/engine/training.py:3103: UserWarning: You are saving your model as an HDF5 file via `model.save()`. This file format is considered legacy. We recommend using instead the native Keras format, e.g. `model.save('my_model.keras')`.\n",
      "  saving_api.save_model(\n"
     ]
    },
    {
     "name": "stdout",
     "output_type": "stream",
     "text": [
      "370/370 [==============================] - 1s 3ms/step - loss: 0.3035 - accuracy: 0.0327 - macro_f1: 0.7357 - val_loss: 0.2883 - val_accuracy: 0.0372 - val_macro_f1: 0.7453 - lr: 6.3025e-04\n",
      "Epoch 16/20\n",
      "  1/370 [..............................] - ETA: 1s - loss: 0.3023 - accuracy: 0.0625 - macro_f1: 0.7252"
     ]
    },
    {
     "name": "stderr",
     "output_type": "stream",
     "text": [
      "/home/jupyter/.local/lib/python3.10/site-packages/keras/src/engine/training.py:3103: UserWarning: You are saving your model as an HDF5 file via `model.save()`. This file format is considered legacy. We recommend using instead the native Keras format, e.g. `model.save('my_model.keras')`.\n",
      "  saving_api.save_model(\n"
     ]
    },
    {
     "name": "stdout",
     "output_type": "stream",
     "text": [
      "370/370 [==============================] - 1s 3ms/step - loss: 0.3017 - accuracy: 0.0349 - macro_f1: 0.7361 - val_loss: 0.2868 - val_accuracy: 0.0384 - val_macro_f1: 0.7422 - lr: 5.9874e-04\n",
      "Epoch 17/20\n",
      " 43/370 [==>...........................] - ETA: 0s - loss: 0.2971 - accuracy: 0.0316 - macro_f1: 0.7393"
     ]
    },
    {
     "name": "stderr",
     "output_type": "stream",
     "text": [
      "/home/jupyter/.local/lib/python3.10/site-packages/keras/src/engine/training.py:3103: UserWarning: You are saving your model as an HDF5 file via `model.save()`. This file format is considered legacy. We recommend using instead the native Keras format, e.g. `model.save('my_model.keras')`.\n",
      "  saving_api.save_model(\n"
     ]
    },
    {
     "name": "stdout",
     "output_type": "stream",
     "text": [
      "358/370 [============================>.] - ETA: 0s - loss: 0.2997 - accuracy: 0.0347 - macro_f1: 0.7375"
     ]
    },
    {
     "name": "stderr",
     "output_type": "stream",
     "text": [
      "/home/jupyter/.local/lib/python3.10/site-packages/keras/src/engine/training.py:3103: UserWarning: You are saving your model as an HDF5 file via `model.save()`. This file format is considered legacy. We recommend using instead the native Keras format, e.g. `model.save('my_model.keras')`.\n",
      "  saving_api.save_model(\n"
     ]
    },
    {
     "name": "stdout",
     "output_type": "stream",
     "text": [
      "370/370 [==============================] - 1s 3ms/step - loss: 0.3002 - accuracy: 0.0344 - macro_f1: 0.7372 - val_loss: 0.2863 - val_accuracy: 0.0367 - val_macro_f1: 0.7452 - lr: 5.6880e-04\n",
      "Epoch 18/20\n",
      "370/370 [==============================] - 1s 3ms/step - loss: 0.2986 - accuracy: 0.0348 - macro_f1: 0.7369 - val_loss: 0.2849 - val_accuracy: 0.0377 - val_macro_f1: 0.7465 - lr: 5.4036e-04\n",
      "Epoch 19/20\n",
      " 22/370 [>.............................] - ETA: 0s - loss: 0.2911 - accuracy: 0.0362 - macro_f1: 0.7405"
     ]
    },
    {
     "name": "stderr",
     "output_type": "stream",
     "text": [
      "/home/jupyter/.local/lib/python3.10/site-packages/keras/src/engine/training.py:3103: UserWarning: You are saving your model as an HDF5 file via `model.save()`. This file format is considered legacy. We recommend using instead the native Keras format, e.g. `model.save('my_model.keras')`.\n",
      "  saving_api.save_model(\n"
     ]
    },
    {
     "name": "stdout",
     "output_type": "stream",
     "text": [
      "370/370 [==============================] - 1s 3ms/step - loss: 0.2975 - accuracy: 0.0349 - macro_f1: 0.7376 - val_loss: 0.2857 - val_accuracy: 0.0375 - val_macro_f1: 0.7435 - lr: 5.1334e-04\n",
      "Epoch 20/20\n",
      "370/370 [==============================] - 1s 3ms/step - loss: 0.2968 - accuracy: 0.0360 - macro_f1: 0.7389 - val_loss: 0.2855 - val_accuracy: 0.0370 - val_macro_f1: 0.7418 - lr: 4.8767e-05\n"
     ]
    }
   ],
   "source": [
    "sentences = X_train['text'].tolist()\n",
    "\n",
    "print(\"Training Word2Vec...\")\n",
    "w2v_model = Word2Vec(\n",
    "    sentences=sentences,\n",
    "    vector_size=100,\n",
    "    window=5,\n",
    "    min_count=1,\n",
    "    workers=4,\n",
    "    epochs=10\n",
    ")\n",
    "\n",
    "class W2VEmbedding:\n",
    "    def __init__(self, w2v_model):\n",
    "        self.w2v = w2v_model\n",
    "\n",
    "    def embed(self, texts):\n",
    "        embeddings = []\n",
    "        for text in texts:\n",
    "            # Для каждого текста получаем вектора слов и усредняем\n",
    "            word_vectors = [self.w2v.wv[word] for word in text if word in self.w2v.wv]\n",
    "            if len(word_vectors) == 0:\n",
    "                embeddings.append(np.zeros(100))\n",
    "            else:\n",
    "                embeddings.append(np.mean(word_vectors, axis=0))\n",
    "        return np.array(embeddings)\n",
    "\n",
    "print(\"Creating embeddings...\")\n",
    "embedder = W2VEmbedding(w2v_model)\n",
    "X_train_w2v = embedder.embed(X_train['text'])\n",
    "X_val_w2v = embedder.embed(X_val['text'])\n",
    "\n",
    "print(\"Building NN model...\")\n",
    "w2v_nn = Sequential([\n",
    "    Dense(256, activation='relu', input_shape=(100,)),\n",
    "    Dropout(0.5),\n",
    "    Dense(labels.shape[1], activation='sigmoid')\n",
    "])\n",
    "\n",
    "w2v_nn.compile(\n",
    "    optimizer=Adam(0.001),\n",
    "    loss='binary_crossentropy',\n",
    "    metrics=['accuracy', macro_f1]\n",
    ")\n",
    "\n",
    "print(\"Training NN...\")\n",
    "history = w2v_nn.fit(\n",
    "    X_train_w2v, y_train,\n",
    "    validation_data=(X_val_w2v, y_val),\n",
    "    epochs=20,\n",
    "    batch_size=64,\n",
    "    callbacks=get_callbacks('w2v_nn')\n",
    ")"
   ]
  },
  {
   "cell_type": "markdown",
   "id": "b137a9b7-c4f6-400b-802c-6cd0cb0cb776",
   "metadata": {},
   "source": [
    "## CNN со встроенным эмбеддингом"
   ]
  },
  {
   "cell_type": "code",
   "execution_count": 69,
   "id": "e698f337-c624-4fff-9b01-7788c39cba94",
   "metadata": {
    "execution": {
     "iopub.execute_input": "2025-05-17T15:46:39.193761Z",
     "iopub.status.busy": "2025-05-17T15:46:39.192688Z",
     "iopub.status.idle": "2025-05-17T15:48:24.216219Z",
     "shell.execute_reply": "2025-05-17T15:48:24.215493Z",
     "shell.execute_reply.started": "2025-05-17T15:46:39.193718Z"
    },
    "tags": []
   },
   "outputs": [
    {
     "name": "stdout",
     "output_type": "stream",
     "text": [
      "Training CNN with Embedding...\n",
      "Epoch 1/20\n",
      "370/370 [==============================] - ETA: 0s - loss: 0.3208 - accuracy: 0.0144 - macro_f1: 0.6882"
     ]
    },
    {
     "name": "stderr",
     "output_type": "stream",
     "text": [
      "/home/jupyter/.local/lib/python3.10/site-packages/keras/src/engine/training.py:3103: UserWarning: You are saving your model as an HDF5 file via `model.save()`. This file format is considered legacy. We recommend using instead the native Keras format, e.g. `model.save('my_model.keras')`.\n",
      "  saving_api.save_model(\n"
     ]
    },
    {
     "name": "stdout",
     "output_type": "stream",
     "text": [
      "370/370 [==============================] - 31s 63ms/step - loss: 0.3208 - accuracy: 0.0144 - macro_f1: 0.6882 - val_loss: 0.2420 - val_accuracy: 0.0188 - val_macro_f1: 0.7417 - lr: 0.0010\n",
      "Epoch 2/20\n",
      "370/370 [==============================] - ETA: 0s - loss: 0.2057 - accuracy: 0.0184 - macro_f1: 0.7608"
     ]
    },
    {
     "name": "stderr",
     "output_type": "stream",
     "text": [
      "/home/jupyter/.local/lib/python3.10/site-packages/keras/src/engine/training.py:3103: UserWarning: You are saving your model as an HDF5 file via `model.save()`. This file format is considered legacy. We recommend using instead the native Keras format, e.g. `model.save('my_model.keras')`.\n",
      "  saving_api.save_model(\n"
     ]
    },
    {
     "name": "stdout",
     "output_type": "stream",
     "text": [
      "370/370 [==============================] - 9s 26ms/step - loss: 0.2057 - accuracy: 0.0184 - macro_f1: 0.7608 - val_loss: 0.2012 - val_accuracy: 0.0169 - val_macro_f1: 0.7692 - lr: 0.0010\n",
      "Epoch 3/20\n",
      "370/370 [==============================] - ETA: 0s - loss: 0.1591 - accuracy: 0.0182 - macro_f1: 0.7936"
     ]
    },
    {
     "name": "stderr",
     "output_type": "stream",
     "text": [
      "/home/jupyter/.local/lib/python3.10/site-packages/keras/src/engine/training.py:3103: UserWarning: You are saving your model as an HDF5 file via `model.save()`. This file format is considered legacy. We recommend using instead the native Keras format, e.g. `model.save('my_model.keras')`.\n",
      "  saving_api.save_model(\n"
     ]
    },
    {
     "name": "stdout",
     "output_type": "stream",
     "text": [
      "370/370 [==============================] - 6s 17ms/step - loss: 0.1591 - accuracy: 0.0182 - macro_f1: 0.7936 - val_loss: 0.1846 - val_accuracy: 0.0166 - val_macro_f1: 0.7793 - lr: 0.0010\n",
      "Epoch 4/20\n",
      "370/370 [==============================] - ETA: 0s - loss: 0.1241 - accuracy: 0.0178 - macro_f1: 0.8193"
     ]
    },
    {
     "name": "stderr",
     "output_type": "stream",
     "text": [
      "/home/jupyter/.local/lib/python3.10/site-packages/keras/src/engine/training.py:3103: UserWarning: You are saving your model as an HDF5 file via `model.save()`. This file format is considered legacy. We recommend using instead the native Keras format, e.g. `model.save('my_model.keras')`.\n",
      "  saving_api.save_model(\n"
     ]
    },
    {
     "name": "stdout",
     "output_type": "stream",
     "text": [
      "370/370 [==============================] - 4s 11ms/step - loss: 0.1241 - accuracy: 0.0178 - macro_f1: 0.8193 - val_loss: 0.1777 - val_accuracy: 0.0154 - val_macro_f1: 0.7923 - lr: 0.0010\n",
      "Epoch 5/20\n",
      "370/370 [==============================] - 3s 9ms/step - loss: 0.0955 - accuracy: 0.0186 - macro_f1: 0.8416 - val_loss: 0.1777 - val_accuracy: 0.0159 - val_macro_f1: 0.7944 - lr: 0.0010\n",
      "Epoch 6/20\n",
      "370/370 [==============================] - 3s 9ms/step - loss: 0.0725 - accuracy: 0.0177 - macro_f1: 0.8610 - val_loss: 0.1845 - val_accuracy: 0.0161 - val_macro_f1: 0.7978 - lr: 1.0000e-04\n",
      "Epoch 7/20\n",
      "370/370 [==============================] - 3s 7ms/step - loss: 0.0507 - accuracy: 0.0182 - macro_f1: 0.8795 - val_loss: 0.1811 - val_accuracy: 0.0161 - val_macro_f1: 0.8012 - lr: 9.5000e-05\n"
     ]
    }
   ],
   "source": [
    "print(\"Training CNN with Embedding...\")\n",
    "tokenizer = Tokenizer(num_words=10000)\n",
    "tokenizer.fit_on_texts(X_train['text'].apply(cnn_clean))\n",
    "\n",
    "X_train_cnn = pad_sequences(\n",
    "    tokenizer.texts_to_sequences(X_train['text'].apply(cnn_clean)),\n",
    "    maxlen=100,\n",
    "    padding='post'\n",
    ")\n",
    "X_val_cnn = pad_sequences(\n",
    "    tokenizer.texts_to_sequences(X_val['text'].apply(cnn_clean)),\n",
    "    maxlen=100,\n",
    "    padding='post'\n",
    ")\n",
    "\n",
    "cnn_model = Sequential([\n",
    "    Embedding(10000, 128, input_length=100),\n",
    "    Conv1D(128, 5, activation='relu'),\n",
    "    GlobalMaxPooling1D(),\n",
    "    Dense(labels.shape[1], activation='sigmoid')\n",
    "])\n",
    "\n",
    "cnn_model.compile(\n",
    "    optimizer=Adam(0.001),\n",
    "    loss='binary_crossentropy',\n",
    "    metrics=['accuracy', macro_f1]\n",
    ")\n",
    "\n",
    "history_cnn = cnn_model.fit(\n",
    "    X_train_cnn, y_train,\n",
    "    validation_data=(X_val_cnn, y_val),\n",
    "    epochs=20,\n",
    "    batch_size=64,\n",
    "    callbacks=get_callbacks('cnn_model')\n",
    ")"
   ]
  },
  {
   "cell_type": "markdown",
   "id": "879a5b69-e03a-4e7c-858b-82a81596b0fc",
   "metadata": {},
   "source": [
    "## RNN со встроенным эмбеддингом"
   ]
  },
  {
   "cell_type": "code",
   "execution_count": 73,
   "id": "9aecc17b-a817-4d73-a767-9dd40d2b845c",
   "metadata": {
    "execution": {
     "iopub.execute_input": "2025-05-17T15:59:48.186766Z",
     "iopub.status.busy": "2025-05-17T15:59:48.185712Z",
     "iopub.status.idle": "2025-05-17T16:01:41.996573Z",
     "shell.execute_reply": "2025-05-17T16:01:41.995605Z",
     "shell.execute_reply.started": "2025-05-17T15:59:48.186732Z"
    }
   },
   "outputs": [
    {
     "name": "stdout",
     "output_type": "stream",
     "text": [
      "Training RNN with Embedding...\n",
      "Epoch 1/20\n",
      "370/370 [==============================] - ETA: 0s - loss: 0.3511 - accuracy: 0.0052 - macro_f1: 0.6673"
     ]
    },
    {
     "name": "stderr",
     "output_type": "stream",
     "text": [
      "/home/jupyter/.local/lib/python3.10/site-packages/keras/src/engine/training.py:3103: UserWarning: You are saving your model as an HDF5 file via `model.save()`. This file format is considered legacy. We recommend using instead the native Keras format, e.g. `model.save('my_model.keras')`.\n",
      "  saving_api.save_model(\n"
     ]
    },
    {
     "name": "stdout",
     "output_type": "stream",
     "text": [
      "370/370 [==============================] - 29s 68ms/step - loss: 0.3511 - accuracy: 0.0052 - macro_f1: 0.6673 - val_loss: 0.2884 - val_accuracy: 0.0042 - val_macro_f1: 0.7165 - lr: 0.0010\n",
      "Epoch 2/20\n",
      "370/370 [==============================] - ETA: 0s - loss: 0.2588 - accuracy: 0.0041 - macro_f1: 0.7339"
     ]
    },
    {
     "name": "stderr",
     "output_type": "stream",
     "text": [
      "/home/jupyter/.local/lib/python3.10/site-packages/keras/src/engine/training.py:3103: UserWarning: You are saving your model as an HDF5 file via `model.save()`. This file format is considered legacy. We recommend using instead the native Keras format, e.g. `model.save('my_model.keras')`.\n",
      "  saving_api.save_model(\n"
     ]
    },
    {
     "name": "stdout",
     "output_type": "stream",
     "text": [
      "370/370 [==============================] - 11s 31ms/step - loss: 0.2588 - accuracy: 0.0041 - macro_f1: 0.7339 - val_loss: 0.2526 - val_accuracy: 0.0069 - val_macro_f1: 0.7400 - lr: 0.0010\n",
      "Epoch 3/20\n",
      "370/370 [==============================] - ETA: 0s - loss: 0.2233 - accuracy: 0.0042 - macro_f1: 0.7536"
     ]
    },
    {
     "name": "stderr",
     "output_type": "stream",
     "text": [
      "/home/jupyter/.local/lib/python3.10/site-packages/keras/src/engine/training.py:3103: UserWarning: You are saving your model as an HDF5 file via `model.save()`. This file format is considered legacy. We recommend using instead the native Keras format, e.g. `model.save('my_model.keras')`.\n",
      "  saving_api.save_model(\n"
     ]
    },
    {
     "name": "stdout",
     "output_type": "stream",
     "text": [
      "370/370 [==============================] - 8s 21ms/step - loss: 0.2233 - accuracy: 0.0042 - macro_f1: 0.7536 - val_loss: 0.2345 - val_accuracy: 0.0076 - val_macro_f1: 0.7483 - lr: 0.0010\n",
      "Epoch 4/20\n",
      "370/370 [==============================] - ETA: 0s - loss: 0.1958 - accuracy: 0.0043 - macro_f1: 0.7692"
     ]
    },
    {
     "name": "stderr",
     "output_type": "stream",
     "text": [
      "/home/jupyter/.local/lib/python3.10/site-packages/keras/src/engine/training.py:3103: UserWarning: You are saving your model as an HDF5 file via `model.save()`. This file format is considered legacy. We recommend using instead the native Keras format, e.g. `model.save('my_model.keras')`.\n",
      "  saving_api.save_model(\n"
     ]
    },
    {
     "name": "stdout",
     "output_type": "stream",
     "text": [
      "370/370 [==============================] - 6s 16ms/step - loss: 0.1958 - accuracy: 0.0043 - macro_f1: 0.7692 - val_loss: 0.2248 - val_accuracy: 0.0059 - val_macro_f1: 0.7601 - lr: 0.0010\n",
      "Epoch 5/20\n",
      "370/370 [==============================] - ETA: 0s - loss: 0.1732 - accuracy: 0.0042 - macro_f1: 0.7826"
     ]
    },
    {
     "name": "stderr",
     "output_type": "stream",
     "text": [
      "/home/jupyter/.local/lib/python3.10/site-packages/keras/src/engine/training.py:3103: UserWarning: You are saving your model as an HDF5 file via `model.save()`. This file format is considered legacy. We recommend using instead the native Keras format, e.g. `model.save('my_model.keras')`.\n",
      "  saving_api.save_model(\n"
     ]
    },
    {
     "name": "stdout",
     "output_type": "stream",
     "text": [
      "370/370 [==============================] - 5s 13ms/step - loss: 0.1732 - accuracy: 0.0042 - macro_f1: 0.7826 - val_loss: 0.2184 - val_accuracy: 0.0054 - val_macro_f1: 0.7605 - lr: 0.0010\n",
      "Epoch 6/20\n",
      "370/370 [==============================] - 4s 11ms/step - loss: 0.1530 - accuracy: 0.0041 - macro_f1: 0.7933 - val_loss: 0.2194 - val_accuracy: 0.0056 - val_macro_f1: 0.7630 - lr: 0.0010\n",
      "Epoch 7/20\n",
      "370/370 [==============================] - 5s 13ms/step - loss: 0.1352 - accuracy: 0.0041 - macro_f1: 0.8029 - val_loss: 0.2212 - val_accuracy: 0.0054 - val_macro_f1: 0.7684 - lr: 9.5000e-05\n",
      "Epoch 8/20\n",
      "370/370 [==============================] - 4s 12ms/step - loss: 0.1136 - accuracy: 0.0043 - macro_f1: 0.8147 - val_loss: 0.2218 - val_accuracy: 0.0052 - val_macro_f1: 0.7720 - lr: 9.0250e-05\n"
     ]
    }
   ],
   "source": [
    "print(\"Training RNN with Embedding...\")\n",
    "\n",
    "tokenizer = Tokenizer(num_words=10000)\n",
    "tokenizer.fit_on_texts(X_train['text'].apply(rnn_clean))\n",
    "\n",
    "X_train_rnn = pad_sequences(\n",
    "    tokenizer.texts_to_sequences(X_train['text'].apply(rnn_clean)),\n",
    "    maxlen=100,\n",
    "    padding='post',\n",
    "    truncating='post'\n",
    ")\n",
    "\n",
    "X_val_rnn = pad_sequences(\n",
    "    tokenizer.texts_to_sequences(X_val['text'].apply(rnn_clean)),\n",
    "    maxlen=100,\n",
    "    padding='post',\n",
    "    truncating='post'\n",
    ")\n",
    "\n",
    "rnn_model = Sequential([\n",
    "    Embedding(input_dim=10000, output_dim=128, input_length=100),\n",
    "    Bidirectional(LSTM(64, return_sequences=False)),\n",
    "    Dense(units=labels.shape[1], activation='sigmoid')\n",
    "])\n",
    "\n",
    "rnn_model.compile(\n",
    "    optimizer=Adam(learning_rate=0.001),\n",
    "    loss='binary_crossentropy',\n",
    "    metrics=['accuracy', macro_f1] \n",
    ")\n",
    "\n",
    "history_rnn = rnn_model.fit(\n",
    "    X_train_rnn, y_train,\n",
    "    validation_data=(X_val_rnn, y_val),\n",
    "    epochs=20,\n",
    "    batch_size=64,\n",
    "    callbacks=get_callbacks('rnn_model')\n",
    ")\n"
   ]
  },
  {
   "cell_type": "markdown",
   "id": "f816b093-c4a4-4ed2-882a-8f87813a0c66",
   "metadata": {},
   "source": [
    "## LLaMa"
   ]
  },
  {
   "cell_type": "code",
   "execution_count": 105,
   "id": "06e5ad8f-bd09-43f7-bf41-ecf27dc89b0e",
   "metadata": {
    "execution": {
     "iopub.execute_input": "2025-05-17T19:00:07.216088Z",
     "iopub.status.busy": "2025-05-17T19:00:07.215016Z",
     "iopub.status.idle": "2025-05-17T19:00:07.281857Z",
     "shell.execute_reply": "2025-05-17T19:00:07.280975Z",
     "shell.execute_reply.started": "2025-05-17T19:00:07.216050Z"
    },
    "tags": []
   },
   "outputs": [],
   "source": [
    "from huggingface_hub import hf_hub_download"
   ]
  },
  {
   "cell_type": "code",
   "execution_count": 144,
   "id": "1fdf2e8b-86bd-469c-85ee-d9e633ab7559",
   "metadata": {
    "execution": {
     "iopub.execute_input": "2025-05-17T20:20:47.971412Z",
     "iopub.status.busy": "2025-05-17T20:20:47.970302Z",
     "iopub.status.idle": "2025-05-17T20:20:48.011305Z",
     "shell.execute_reply": "2025-05-17T20:20:48.010510Z",
     "shell.execute_reply.started": "2025-05-17T20:20:47.971364Z"
    }
   },
   "outputs": [],
   "source": [
    "device = \"cuda\" if torch.cuda.is_available() else \"cpu\""
   ]
  },
  {
   "cell_type": "code",
   "execution_count": 156,
   "id": "d45bf5bd-4f8e-42b1-bd57-eaf3141ea165",
   "metadata": {
    "collapsed": true,
    "execution": {
     "iopub.execute_input": "2025-05-17T20:30:43.175361Z",
     "iopub.status.busy": "2025-05-17T20:30:43.174252Z",
     "iopub.status.idle": "2025-05-17T20:30:46.950823Z",
     "shell.execute_reply": "2025-05-17T20:30:46.949962Z",
     "shell.execute_reply.started": "2025-05-17T20:30:43.175320Z"
    },
    "jupyter": {
     "outputs_hidden": true
    },
    "tags": []
   },
   "outputs": [
    {
     "name": "stderr",
     "output_type": "stream",
     "text": [
      "/home/jupyter/.local/lib/python3.10/site-packages/huggingface_hub/file_download.py:943: FutureWarning: `resume_download` is deprecated and will be removed in version 1.0.0. Downloads always resume when possible. If you want to force a new download, use `force_download=True`.\n",
      "  warnings.warn(\n",
      "llama_model_loader: loaded meta data with 24 key-value pairs and 291 tensors from /tmp/xdg_cache/huggingface/hub/models--TheBloke--Mistral-7B-Instruct-v0.2-GGUF/snapshots/3a6fbf4a41a1d52e415a4958cde6856d34b2db93/mistral-7b-instruct-v0.2.Q4_K_M.gguf (version GGUF V3 (latest))\n",
      "llama_model_loader: Dumping metadata keys/values. Note: KV overrides do not apply in this output.\n",
      "llama_model_loader: - kv   0:                       general.architecture str              = llama\n",
      "llama_model_loader: - kv   1:                               general.name str              = mistralai_mistral-7b-instruct-v0.2\n",
      "llama_model_loader: - kv   2:                       llama.context_length u32              = 32768\n",
      "llama_model_loader: - kv   3:                     llama.embedding_length u32              = 4096\n",
      "llama_model_loader: - kv   4:                          llama.block_count u32              = 32\n",
      "llama_model_loader: - kv   5:                  llama.feed_forward_length u32              = 14336\n",
      "llama_model_loader: - kv   6:                 llama.rope.dimension_count u32              = 128\n",
      "llama_model_loader: - kv   7:                 llama.attention.head_count u32              = 32\n",
      "llama_model_loader: - kv   8:              llama.attention.head_count_kv u32              = 8\n",
      "llama_model_loader: - kv   9:     llama.attention.layer_norm_rms_epsilon f32              = 0.000010\n",
      "llama_model_loader: - kv  10:                       llama.rope.freq_base f32              = 1000000.000000\n",
      "llama_model_loader: - kv  11:                          general.file_type u32              = 15\n",
      "llama_model_loader: - kv  12:                       tokenizer.ggml.model str              = llama\n",
      "llama_model_loader: - kv  13:                      tokenizer.ggml.tokens arr[str,32000]   = [\"<unk>\", \"<s>\", \"</s>\", \"<0x00>\", \"<...\n",
      "llama_model_loader: - kv  14:                      tokenizer.ggml.scores arr[f32,32000]   = [0.000000, 0.000000, 0.000000, 0.0000...\n",
      "llama_model_loader: - kv  15:                  tokenizer.ggml.token_type arr[i32,32000]   = [2, 3, 3, 6, 6, 6, 6, 6, 6, 6, 6, 6, ...\n",
      "llama_model_loader: - kv  16:                tokenizer.ggml.bos_token_id u32              = 1\n",
      "llama_model_loader: - kv  17:                tokenizer.ggml.eos_token_id u32              = 2\n",
      "llama_model_loader: - kv  18:            tokenizer.ggml.unknown_token_id u32              = 0\n",
      "llama_model_loader: - kv  19:            tokenizer.ggml.padding_token_id u32              = 0\n",
      "llama_model_loader: - kv  20:               tokenizer.ggml.add_bos_token bool             = true\n",
      "llama_model_loader: - kv  21:               tokenizer.ggml.add_eos_token bool             = false\n",
      "llama_model_loader: - kv  22:                    tokenizer.chat_template str              = {{ bos_token }}{% for message in mess...\n",
      "llama_model_loader: - kv  23:               general.quantization_version u32              = 2\n",
      "llama_model_loader: - type  f32:   65 tensors\n",
      "llama_model_loader: - type q4_K:  193 tensors\n",
      "llama_model_loader: - type q6_K:   33 tensors\n",
      "print_info: file format = GGUF V3 (latest)\n",
      "print_info: file type   = Q4_K - Medium\n",
      "print_info: file size   = 4.07 GiB (4.83 BPW) \n",
      "init_tokenizer: initializing tokenizer for type 1\n",
      "load: control token:      2 '</s>' is not marked as EOG\n",
      "load: control token:      1 '<s>' is not marked as EOG\n",
      "load: special_eos_id is not in special_eog_ids - the tokenizer config may be incorrect\n",
      "load: special tokens cache size = 3\n",
      "load: token to piece cache size = 0.1637 MB\n",
      "print_info: arch             = llama\n",
      "print_info: vocab_only       = 0\n",
      "print_info: n_ctx_train      = 32768\n",
      "print_info: n_embd           = 4096\n",
      "print_info: n_layer          = 32\n",
      "print_info: n_head           = 32\n",
      "print_info: n_head_kv        = 8\n",
      "print_info: n_rot            = 128\n",
      "print_info: n_swa            = 0\n",
      "print_info: n_swa_pattern    = 1\n",
      "print_info: n_embd_head_k    = 128\n",
      "print_info: n_embd_head_v    = 128\n",
      "print_info: n_gqa            = 4\n",
      "print_info: n_embd_k_gqa     = 1024\n",
      "print_info: n_embd_v_gqa     = 1024\n",
      "print_info: f_norm_eps       = 0.0e+00\n",
      "print_info: f_norm_rms_eps   = 1.0e-05\n",
      "print_info: f_clamp_kqv      = 0.0e+00\n",
      "print_info: f_max_alibi_bias = 0.0e+00\n",
      "print_info: f_logit_scale    = 0.0e+00\n",
      "print_info: f_attn_scale     = 0.0e+00\n",
      "print_info: n_ff             = 14336\n",
      "print_info: n_expert         = 0\n",
      "print_info: n_expert_used    = 0\n",
      "print_info: causal attn      = 1\n",
      "print_info: pooling type     = 0\n",
      "print_info: rope type        = 0\n",
      "print_info: rope scaling     = linear\n",
      "print_info: freq_base_train  = 1000000.0\n",
      "print_info: freq_scale_train = 1\n",
      "print_info: n_ctx_orig_yarn  = 32768\n",
      "print_info: rope_finetuned   = unknown\n",
      "print_info: ssm_d_conv       = 0\n",
      "print_info: ssm_d_inner      = 0\n",
      "print_info: ssm_d_state      = 0\n",
      "print_info: ssm_dt_rank      = 0\n",
      "print_info: ssm_dt_b_c_rms   = 0\n",
      "print_info: model type       = 7B\n",
      "print_info: model params     = 7.24 B\n",
      "print_info: general.name     = mistralai_mistral-7b-instruct-v0.2\n",
      "print_info: vocab type       = SPM\n",
      "print_info: n_vocab          = 32000\n",
      "print_info: n_merges         = 0\n",
      "print_info: BOS token        = 1 '<s>'\n",
      "print_info: EOS token        = 2 '</s>'\n",
      "print_info: UNK token        = 0 '<unk>'\n",
      "print_info: PAD token        = 0 '<unk>'\n",
      "print_info: LF token         = 13 '<0x0A>'\n",
      "print_info: EOG token        = 2 '</s>'\n",
      "print_info: max token length = 48\n",
      "load_tensors: loading model tensors, this can take a while... (mmap = true)\n",
      "load_tensors: layer   0 assigned to device CPU, is_swa = 0\n",
      "load_tensors: layer   1 assigned to device CPU, is_swa = 0\n",
      "load_tensors: layer   2 assigned to device CPU, is_swa = 0\n",
      "load_tensors: layer   3 assigned to device CPU, is_swa = 0\n",
      "load_tensors: layer   4 assigned to device CPU, is_swa = 0\n",
      "load_tensors: layer   5 assigned to device CPU, is_swa = 0\n",
      "load_tensors: layer   6 assigned to device CPU, is_swa = 0\n",
      "load_tensors: layer   7 assigned to device CPU, is_swa = 0\n",
      "load_tensors: layer   8 assigned to device CPU, is_swa = 0\n",
      "load_tensors: layer   9 assigned to device CPU, is_swa = 0\n",
      "load_tensors: layer  10 assigned to device CPU, is_swa = 0\n",
      "load_tensors: layer  11 assigned to device CPU, is_swa = 0\n",
      "load_tensors: layer  12 assigned to device CPU, is_swa = 0\n",
      "load_tensors: layer  13 assigned to device CPU, is_swa = 0\n",
      "load_tensors: layer  14 assigned to device CPU, is_swa = 0\n",
      "load_tensors: layer  15 assigned to device CPU, is_swa = 0\n",
      "load_tensors: layer  16 assigned to device CPU, is_swa = 0\n",
      "load_tensors: layer  17 assigned to device CPU, is_swa = 0\n",
      "load_tensors: layer  18 assigned to device CPU, is_swa = 0\n",
      "load_tensors: layer  19 assigned to device CPU, is_swa = 0\n",
      "load_tensors: layer  20 assigned to device CPU, is_swa = 0\n",
      "load_tensors: layer  21 assigned to device CPU, is_swa = 0\n",
      "load_tensors: layer  22 assigned to device CPU, is_swa = 0\n",
      "load_tensors: layer  23 assigned to device CPU, is_swa = 0\n",
      "load_tensors: layer  24 assigned to device CPU, is_swa = 0\n",
      "load_tensors: layer  25 assigned to device CPU, is_swa = 0\n",
      "load_tensors: layer  26 assigned to device CPU, is_swa = 0\n",
      "load_tensors: layer  27 assigned to device CPU, is_swa = 0\n",
      "load_tensors: layer  28 assigned to device CPU, is_swa = 0\n",
      "load_tensors: layer  29 assigned to device CPU, is_swa = 0\n",
      "load_tensors: layer  30 assigned to device CPU, is_swa = 0\n",
      "load_tensors: layer  31 assigned to device CPU, is_swa = 0\n",
      "load_tensors: layer  32 assigned to device CPU, is_swa = 0\n",
      "load_tensors: tensor 'token_embd.weight' (q4_K) (and 98 others) cannot be used with preferred buffer type CPU_AARCH64, using CPU instead\n",
      "load_tensors:  CPU_AARCH64 model buffer size =  3204.00 MiB\n",
      "load_tensors:   CPU_Mapped model buffer size =  4165.37 MiB\n",
      "repack: repack tensor blk.0.attn_q.weight with q4_K_8x8\n",
      "repack: repack tensor blk.0.attn_k.weight with q4_K_8x8\n",
      "repack: repack tensor blk.0.attn_output.weight with q4_K_8x8\n",
      "repack: repack tensor blk.0.ffn_gate.weight with q4_K_8x8\n",
      ".repack: repack tensor blk.0.ffn_up.weight with q4_K_8x8\n",
      "repack: repack tensor blk.1.attn_q.weight with q4_K_8x8\n",
      ".repack: repack tensor blk.1.attn_k.weight with q4_K_8x8\n",
      "repack: repack tensor blk.1.attn_output.weight with q4_K_8x8\n",
      "repack: repack tensor blk.1.ffn_gate.weight with q4_K_8x8\n",
      ".repack: repack tensor blk.1.ffn_up.weight with q4_K_8x8\n",
      "repack: repack tensor blk.2.attn_q.weight with q4_K_8x8\n",
      ".repack: repack tensor blk.2.attn_k.weight with q4_K_8x8\n",
      "repack: repack tensor blk.2.attn_output.weight with q4_K_8x8\n",
      "repack: repack tensor blk.2.ffn_gate.weight with q4_K_8x8\n",
      ".repack: repack tensor blk.2.ffn_up.weight with q4_K_8x8\n",
      "repack: repack tensor blk.3.attn_q.weight with q4_K_8x8\n",
      ".repack: repack tensor blk.3.attn_k.weight with q4_K_8x8\n",
      "repack: repack tensor blk.3.attn_output.weight with q4_K_8x8\n",
      "repack: repack tensor blk.3.ffn_gate.weight with q4_K_8x8\n",
      ".repack: repack tensor blk.3.ffn_up.weight with q4_K_8x8\n",
      "repack: repack tensor blk.4.attn_q.weight with q4_K_8x8\n",
      ".repack: repack tensor blk.4.attn_k.weight with q4_K_8x8\n",
      "repack: repack tensor blk.4.attn_v.weight with q4_K_8x8\n",
      "repack: repack tensor blk.4.attn_output.weight with q4_K_8x8\n",
      "repack: repack tensor blk.4.ffn_gate.weight with q4_K_8x8\n",
      ".repack: repack tensor blk.4.ffn_down.weight with q4_K_8x8\n",
      ".repack: repack tensor blk.4.ffn_up.weight with q4_K_8x8\n",
      "repack: repack tensor blk.5.attn_q.weight with q4_K_8x8\n",
      ".repack: repack tensor blk.5.attn_k.weight with q4_K_8x8\n",
      "repack: repack tensor blk.5.attn_v.weight with q4_K_8x8\n",
      "repack: repack tensor blk.5.attn_output.weight with q4_K_8x8\n",
      "repack: repack tensor blk.5.ffn_gate.weight with q4_K_8x8\n",
      ".repack: repack tensor blk.5.ffn_down.weight with q4_K_8x8\n",
      "repack: repack tensor blk.5.ffn_up.weight with q4_K_8x8\n",
      ".repack: repack tensor blk.6.attn_q.weight with q4_K_8x8\n",
      "repack: repack tensor blk.6.attn_k.weight with q4_K_8x8\n",
      "repack: repack tensor blk.6.attn_output.weight with q4_K_8x8\n",
      ".repack: repack tensor blk.6.ffn_gate.weight with q4_K_8x8\n",
      "repack: repack tensor blk.6.ffn_up.weight with q4_K_8x8\n",
      ".repack: repack tensor blk.7.attn_q.weight with q4_K_8x8\n",
      "repack: repack tensor blk.7.attn_k.weight with q4_K_8x8\n",
      "repack: repack tensor blk.7.attn_v.weight with q4_K_8x8\n",
      "repack: repack tensor blk.7.attn_output.weight with q4_K_8x8\n",
      ".repack: repack tensor blk.7.ffn_gate.weight with q4_K_8x8\n",
      "repack: repack tensor blk.7.ffn_down.weight with q4_K_8x8\n",
      ".repack: repack tensor blk.7.ffn_up.weight with q4_K_8x8\n",
      ".repack: repack tensor blk.8.attn_q.weight with q4_K_8x8\n",
      "repack: repack tensor blk.8.attn_k.weight with q4_K_8x8\n",
      "repack: repack tensor blk.8.attn_v.weight with q4_K_8x8\n",
      "repack: repack tensor blk.8.attn_output.weight with q4_K_8x8\n",
      "repack: repack tensor blk.8.ffn_gate.weight with q4_K_8x8\n",
      ".repack: repack tensor blk.8.ffn_down.weight with q4_K_8x8\n",
      ".repack: repack tensor blk.8.ffn_up.weight with q4_K_8x8\n",
      ".repack: repack tensor blk.9.attn_q.weight with q4_K_8x8\n",
      "repack: repack tensor blk.9.attn_k.weight with q4_K_8x8\n",
      "repack: repack tensor blk.9.attn_output.weight with q4_K_8x8\n",
      "repack: repack tensor blk.9.ffn_gate.weight with q4_K_8x8\n",
      ".repack: repack tensor blk.9.ffn_up.weight with q4_K_8x8\n",
      ".repack: repack tensor blk.10.attn_q.weight with q4_K_8x8\n",
      "repack: repack tensor blk.10.attn_k.weight with q4_K_8x8\n",
      "repack: repack tensor blk.10.attn_v.weight with q4_K_8x8\n",
      "repack: repack tensor blk.10.attn_output.weight with q4_K_8x8\n",
      "repack: repack tensor blk.10.ffn_gate.weight with q4_K_8x8\n",
      ".repack: repack tensor blk.10.ffn_down.weight with q4_K_8x8\n",
      ".repack: repack tensor blk.10.ffn_up.weight with q4_K_8x8\n",
      ".repack: repack tensor blk.11.attn_q.weight with q4_K_8x8\n",
      "repack: repack tensor blk.11.attn_k.weight with q4_K_8x8\n",
      "repack: repack tensor blk.11.attn_v.weight with q4_K_8x8\n",
      "repack: repack tensor blk.11.attn_output.weight with q4_K_8x8\n",
      "repack: repack tensor blk.11.ffn_gate.weight with q4_K_8x8\n",
      ".repack: repack tensor blk.11.ffn_down.weight with q4_K_8x8\n",
      ".repack: repack tensor blk.11.ffn_up.weight with q4_K_8x8\n",
      "repack: repack tensor blk.12.attn_q.weight with q4_K_8x8\n",
      ".repack: repack tensor blk.12.attn_k.weight with q4_K_8x8\n",
      "repack: repack tensor blk.12.attn_output.weight with q4_K_8x8\n",
      "repack: repack tensor blk.12.ffn_gate.weight with q4_K_8x8\n",
      ".repack: repack tensor blk.12.ffn_up.weight with q4_K_8x8\n",
      "repack: repack tensor blk.13.attn_q.weight with q4_K_8x8\n",
      ".repack: repack tensor blk.13.attn_k.weight with q4_K_8x8\n",
      "repack: repack tensor blk.13.attn_v.weight with q4_K_8x8\n",
      "repack: repack tensor blk.13.attn_output.weight with q4_K_8x8\n",
      "repack: repack tensor blk.13.ffn_gate.weight with q4_K_8x8\n",
      ".repack: repack tensor blk.13.ffn_down.weight with q4_K_8x8\n",
      "repack: repack tensor blk.13.ffn_up.weight with q4_K_8x8\n",
      ".repack: repack tensor blk.14.attn_q.weight with q4_K_8x8\n",
      "repack: repack tensor blk.14.attn_k.weight with q4_K_8x8\n",
      "repack: repack tensor blk.14.attn_v.weight with q4_K_8x8\n",
      "repack: repack tensor blk.14.attn_output.weight with q4_K_8x8\n",
      ".repack: repack tensor blk.14.ffn_gate.weight with q4_K_8x8\n",
      "repack: repack tensor blk.14.ffn_down.weight with q4_K_8x8\n",
      ".repack: repack tensor blk.14.ffn_up.weight with q4_K_8x8\n",
      ".repack: repack tensor blk.15.attn_q.weight with q4_K_8x8\n",
      "repack: repack tensor blk.15.attn_k.weight with q4_K_8x8\n",
      "repack: repack tensor blk.15.attn_output.weight with q4_K_8x8\n",
      "repack: repack tensor blk.15.ffn_gate.weight with q4_K_8x8\n",
      ".repack: repack tensor blk.15.ffn_up.weight with q4_K_8x8\n",
      ".repack: repack tensor blk.16.attn_q.weight with q4_K_8x8\n",
      "repack: repack tensor blk.16.attn_k.weight with q4_K_8x8\n",
      "repack: repack tensor blk.16.attn_v.weight with q4_K_8x8\n",
      "repack: repack tensor blk.16.attn_output.weight with q4_K_8x8\n",
      ".repack: repack tensor blk.16.ffn_gate.weight with q4_K_8x8\n",
      "repack: repack tensor blk.16.ffn_down.weight with q4_K_8x8\n",
      ".repack: repack tensor blk.16.ffn_up.weight with q4_K_8x8\n",
      ".repack: repack tensor blk.17.attn_q.weight with q4_K_8x8\n",
      "repack: repack tensor blk.17.attn_k.weight with q4_K_8x8\n",
      "repack: repack tensor blk.17.attn_v.weight with q4_K_8x8\n",
      "repack: repack tensor blk.17.attn_output.weight with q4_K_8x8\n",
      "repack: repack tensor blk.17.ffn_gate.weight with q4_K_8x8\n",
      ".repack: repack tensor blk.17.ffn_down.weight with q4_K_8x8\n",
      ".repack: repack tensor blk.17.ffn_up.weight with q4_K_8x8\n",
      ".repack: repack tensor blk.18.attn_q.weight with q4_K_8x8\n",
      "repack: repack tensor blk.18.attn_k.weight with q4_K_8x8\n",
      "repack: repack tensor blk.18.attn_output.weight with q4_K_8x8\n",
      "repack: repack tensor blk.18.ffn_gate.weight with q4_K_8x8\n",
      ".repack: repack tensor blk.18.ffn_up.weight with q4_K_8x8\n",
      ".repack: repack tensor blk.19.attn_q.weight with q4_K_8x8\n",
      "repack: repack tensor blk.19.attn_k.weight with q4_K_8x8\n",
      "repack: repack tensor blk.19.attn_v.weight with q4_K_8x8\n",
      "repack: repack tensor blk.19.attn_output.weight with q4_K_8x8\n",
      "repack: repack tensor blk.19.ffn_gate.weight with q4_K_8x8\n",
      ".repack: repack tensor blk.19.ffn_down.weight with q4_K_8x8\n",
      ".repack: repack tensor blk.19.ffn_up.weight with q4_K_8x8\n",
      "repack: repack tensor blk.20.attn_q.weight with q4_K_8x8\n",
      ".repack: repack tensor blk.20.attn_k.weight with q4_K_8x8\n",
      "repack: repack tensor blk.20.attn_v.weight with q4_K_8x8\n",
      "repack: repack tensor blk.20.attn_output.weight with q4_K_8x8\n",
      "repack: repack tensor blk.20.ffn_gate.weight with q4_K_8x8\n",
      ".repack: repack tensor blk.20.ffn_down.weight with q4_K_8x8\n",
      "repack: repack tensor blk.20.ffn_up.weight with q4_K_8x8\n",
      ".repack: repack tensor blk.21.attn_q.weight with q4_K_8x8\n",
      "repack: repack tensor blk.21.attn_k.weight with q4_K_8x8\n",
      "repack: repack tensor blk.21.attn_output.weight with q4_K_8x8\n",
      ".repack: repack tensor blk.21.ffn_gate.weight with q4_K_8x8\n",
      "repack: repack tensor blk.21.ffn_up.weight with q4_K_8x8\n",
      ".repack: repack tensor blk.22.attn_q.weight with q4_K_8x8\n",
      "repack: repack tensor blk.22.attn_k.weight with q4_K_8x8\n",
      "repack: repack tensor blk.22.attn_v.weight with q4_K_8x8\n",
      ".repack: repack tensor blk.22.attn_output.weight with q4_K_8x8\n",
      "repack: repack tensor blk.22.ffn_gate.weight with q4_K_8x8\n",
      "repack: repack tensor blk.22.ffn_down.weight with q4_K_8x8\n",
      ".repack: repack tensor blk.22.ffn_up.weight with q4_K_8x8\n",
      ".repack: repack tensor blk.23.attn_q.weight with q4_K_8x8\n",
      "repack: repack tensor blk.23.attn_k.weight with q4_K_8x8\n",
      "repack: repack tensor blk.23.attn_v.weight with q4_K_8x8\n",
      "repack: repack tensor blk.23.attn_output.weight with q4_K_8x8\n",
      ".repack: repack tensor blk.23.ffn_gate.weight with q4_K_8x8\n",
      "repack: repack tensor blk.23.ffn_down.weight with q4_K_8x8\n",
      ".repack: repack tensor blk.23.ffn_up.weight with q4_K_8x8\n",
      ".repack: repack tensor blk.24.attn_q.weight with q4_K_8x8\n",
      "repack: repack tensor blk.24.attn_k.weight with q4_K_8x8\n",
      "repack: repack tensor blk.24.attn_output.weight with q4_K_8x8\n",
      "repack: repack tensor blk.24.ffn_gate.weight with q4_K_8x8\n",
      ".repack: repack tensor blk.24.ffn_up.weight with q4_K_8x8\n",
      ".repack: repack tensor blk.25.attn_q.weight with q4_K_8x8\n",
      "repack: repack tensor blk.25.attn_k.weight with q4_K_8x8\n",
      "repack: repack tensor blk.25.attn_v.weight with q4_K_8x8\n",
      "repack: repack tensor blk.25.attn_output.weight with q4_K_8x8\n",
      "repack: repack tensor blk.25.ffn_gate.weight with q4_K_8x8\n",
      ".repack: repack tensor blk.25.ffn_down.weight with q4_K_8x8\n",
      ".repack: repack tensor blk.25.ffn_up.weight with q4_K_8x8\n",
      ".repack: repack tensor blk.26.attn_q.weight with q4_K_8x8\n",
      "repack: repack tensor blk.26.attn_k.weight with q4_K_8x8\n",
      "repack: repack tensor blk.26.attn_v.weight with q4_K_8x8\n",
      "repack: repack tensor blk.26.attn_output.weight with q4_K_8x8\n",
      "repack: repack tensor blk.26.ffn_gate.weight with q4_K_8x8\n",
      ".repack: repack tensor blk.26.ffn_down.weight with q4_K_8x8\n",
      ".repack: repack tensor blk.26.ffn_up.weight with q4_K_8x8\n",
      "repack: repack tensor blk.27.attn_q.weight with q4_K_8x8\n",
      ".repack: repack tensor blk.27.attn_k.weight with q4_K_8x8\n",
      "repack: repack tensor blk.27.attn_output.weight with q4_K_8x8\n",
      "repack: repack tensor blk.27.ffn_gate.weight with q4_K_8x8\n",
      ".repack: repack tensor blk.27.ffn_up.weight with q4_K_8x8\n",
      "repack: repack tensor blk.28.attn_q.weight with q4_K_8x8\n",
      ".repack: repack tensor blk.28.attn_k.weight with q4_K_8x8\n",
      "repack: repack tensor blk.28.attn_output.weight with q4_K_8x8\n",
      "repack: repack tensor blk.28.ffn_gate.weight with q4_K_8x8\n",
      ".repack: repack tensor blk.28.ffn_up.weight with q4_K_8x8\n",
      "repack: repack tensor blk.29.attn_q.weight with q4_K_8x8\n",
      ".repack: repack tensor blk.29.attn_k.weight with q4_K_8x8\n",
      "repack: repack tensor blk.29.attn_output.weight with q4_K_8x8\n",
      "repack: repack tensor blk.29.ffn_gate.weight with q4_K_8x8\n",
      ".repack: repack tensor blk.29.ffn_up.weight with q4_K_8x8\n",
      "repack: repack tensor blk.30.attn_q.weight with q4_K_8x8\n",
      ".repack: repack tensor blk.30.attn_k.weight with q4_K_8x8\n",
      "repack: repack tensor blk.30.attn_output.weight with q4_K_8x8\n",
      "repack: repack tensor blk.30.ffn_gate.weight with q4_K_8x8\n",
      ".repack: repack tensor blk.30.ffn_up.weight with q4_K_8x8\n",
      "repack: repack tensor blk.31.attn_q.weight with q4_K_8x8\n",
      ".repack: repack tensor blk.31.attn_k.weight with q4_K_8x8\n",
      "repack: repack tensor blk.31.attn_output.weight with q4_K_8x8\n",
      "repack: repack tensor blk.31.ffn_gate.weight with q4_K_8x8\n",
      ".repack: repack tensor blk.31.ffn_up.weight with q4_K_8x8\n",
      "...................\n",
      "llama_context: constructing llama_context\n",
      "llama_context: n_seq_max     = 1\n",
      "llama_context: n_ctx         = 2048\n",
      "llama_context: n_ctx_per_seq = 2048\n",
      "llama_context: n_batch       = 512\n",
      "llama_context: n_ubatch      = 512\n",
      "llama_context: causal_attn   = 1\n",
      "llama_context: flash_attn    = 0\n",
      "llama_context: freq_base     = 1000000.0\n",
      "llama_context: freq_scale    = 1\n",
      "llama_context: n_ctx_per_seq (2048) < n_ctx_train (32768) -- the full capacity of the model will not be utilized\n",
      "set_abort_callback: call\n",
      "llama_context:        CPU  output buffer size =     0.12 MiB\n",
      "create_memory: n_ctx = 2048 (padded)\n",
      "llama_kv_cache_unified: kv_size = 2048, type_k = 'f16', type_v = 'f16', n_layer = 32, can_shift = 1, padding = 32\n",
      "llama_kv_cache_unified: layer   0: dev = CPU\n",
      "llama_kv_cache_unified: layer   1: dev = CPU\n",
      "llama_kv_cache_unified: layer   2: dev = CPU\n",
      "llama_kv_cache_unified: layer   3: dev = CPU\n",
      "llama_kv_cache_unified: layer   4: dev = CPU\n",
      "llama_kv_cache_unified: layer   5: dev = CPU\n",
      "llama_kv_cache_unified: layer   6: dev = CPU\n",
      "llama_kv_cache_unified: layer   7: dev = CPU\n",
      "llama_kv_cache_unified: layer   8: dev = CPU\n",
      "llama_kv_cache_unified: layer   9: dev = CPU\n",
      "llama_kv_cache_unified: layer  10: dev = CPU\n",
      "llama_kv_cache_unified: layer  11: dev = CPU\n",
      "llama_kv_cache_unified: layer  12: dev = CPU\n",
      "llama_kv_cache_unified: layer  13: dev = CPU\n",
      "llama_kv_cache_unified: layer  14: dev = CPU\n",
      "llama_kv_cache_unified: layer  15: dev = CPU\n",
      "llama_kv_cache_unified: layer  16: dev = CPU\n",
      "llama_kv_cache_unified: layer  17: dev = CPU\n",
      "llama_kv_cache_unified: layer  18: dev = CPU\n",
      "llama_kv_cache_unified: layer  19: dev = CPU\n",
      "llama_kv_cache_unified: layer  20: dev = CPU\n",
      "llama_kv_cache_unified: layer  21: dev = CPU\n",
      "llama_kv_cache_unified: layer  22: dev = CPU\n",
      "llama_kv_cache_unified: layer  23: dev = CPU\n",
      "llama_kv_cache_unified: layer  24: dev = CPU\n",
      "llama_kv_cache_unified: layer  25: dev = CPU\n",
      "llama_kv_cache_unified: layer  26: dev = CPU\n",
      "llama_kv_cache_unified: layer  27: dev = CPU\n",
      "llama_kv_cache_unified: layer  28: dev = CPU\n",
      "llama_kv_cache_unified: layer  29: dev = CPU\n",
      "llama_kv_cache_unified: layer  30: dev = CPU\n",
      "llama_kv_cache_unified: layer  31: dev = CPU\n",
      "llama_kv_cache_unified:        CPU KV buffer size =   256.00 MiB\n",
      "llama_kv_cache_unified: KV self size  =  256.00 MiB, K (f16):  128.00 MiB, V (f16):  128.00 MiB\n",
      "llama_context: enumerating backends\n",
      "llama_context: backend_ptrs.size() = 1\n",
      "llama_context: max_nodes = 65536\n",
      "llama_context: worst-case: n_tokens = 512, n_seqs = 1, n_outputs = 0\n",
      "llama_context: reserving graph for n_tokens = 512, n_seqs = 1\n",
      "llama_context: reserving graph for n_tokens = 1, n_seqs = 1\n",
      "llama_context: reserving graph for n_tokens = 512, n_seqs = 1\n",
      "llama_context:        CPU compute buffer size =   164.01 MiB\n",
      "llama_context: graph nodes  = 1094\n",
      "llama_context: graph splits = 1\n",
      "CPU : SSE3 = 1 | SSSE3 = 1 | AVX = 1 | AVX2 = 1 | F16C = 1 | FMA = 1 | BMI2 = 1 | AVX512 = 1 | AVX512_VBMI = 1 | AVX512_VNNI = 1 | LLAMAFILE = 1 | OPENMP = 1 | AARCH64_REPACK = 1 | \n",
      "Model metadata: {'tokenizer.chat_template': \"{{ bos_token }}{% for message in messages %}{% if (message['role'] == 'user') != (loop.index0 % 2 == 0) %}{{ raise_exception('Conversation roles must alternate user/assistant/user/assistant/...') }}{% endif %}{% if message['role'] == 'user' %}{{ '[INST] ' + message['content'] + ' [/INST]' }}{% elif message['role'] == 'assistant' %}{{ message['content'] + eos_token}}{% else %}{{ raise_exception('Only user and assistant roles are supported!') }}{% endif %}{% endfor %}\", 'tokenizer.ggml.add_eos_token': 'false', 'tokenizer.ggml.padding_token_id': '0', 'tokenizer.ggml.unknown_token_id': '0', 'tokenizer.ggml.eos_token_id': '2', 'general.architecture': 'llama', 'llama.rope.freq_base': '1000000.000000', 'llama.context_length': '32768', 'general.name': 'mistralai_mistral-7b-instruct-v0.2', 'tokenizer.ggml.add_bos_token': 'true', 'llama.embedding_length': '4096', 'llama.feed_forward_length': '14336', 'llama.attention.layer_norm_rms_epsilon': '0.000010', 'llama.rope.dimension_count': '128', 'tokenizer.ggml.bos_token_id': '1', 'llama.attention.head_count': '32', 'llama.block_count': '32', 'llama.attention.head_count_kv': '8', 'general.quantization_version': '2', 'tokenizer.ggml.model': 'llama', 'general.file_type': '15'}\n",
      "Available chat formats from metadata: chat_template.default\n",
      "Guessed chat format: mistral-instruct\n"
     ]
    }
   ],
   "source": [
    "train_df, val_df = train_test_split(X.join(pd.DataFrame(labels, columns=[f\"label_{i}\" for i in range(labels.shape[1])])), \n",
    "                                    test_size=0.2, random_state=42)\n",
    "\n",
    "model_path = hf_hub_download(\n",
    "    repo_id=\"TheBloke/Mistral-7B-Instruct-v0.2-GGUF\",\n",
    "    filename=\"mistral-7b-instruct-v0.2.Q4_K_M.gguf\",  # Оптимальный вариант\n",
    "    resume_download=True\n",
    ")\n",
    "\n",
    "tokenizer = AutoTokenizer.from_pretrained(\"TheBloke/Mistral-7B-Instruct-v0.2-AWQ\")\n",
    "\n",
    "model = Llama(\n",
    "    model_path=model_path,\n",
    "    n_ctx=2048,  # Размер контекста\n",
    "    n_threads=8  # Количество CPU-потоков\n",
    ")\n",
    "\n",
    "class LlamaClassificationDataset(Dataset):\n",
    "    def __init__(self, df, tokenizer, max_length=512):\n",
    "        self.df = df\n",
    "        self.tokenizer = tokenizer\n",
    "        self.max_length = max_length\n",
    "\n",
    "    def __getitem__(self, idx):\n",
    "        row = self.df.iloc[idx]\n",
    "        text = row['cleaned_llama']\n",
    "        labels = row['labels']\n",
    "        \n",
    "        prompt = f\"\"\"<s>[INST] Classify this text: {text} [/INST]\"\"\"\n",
    "        \n",
    "        encoding = self.tokenizer(\n",
    "            prompt,\n",
    "            truncation=True,\n",
    "            max_length=self.max_length,\n",
    "            padding=\"max_length\",\n",
    "            return_tensors=\"pt\"\n",
    "        )\n",
    "        \n",
    "        return {\n",
    "            'input_ids': encoding['input_ids'].flatten(),\n",
    "            'attention_mask': encoding['attention_mask'].flatten(),\n",
    "            'labels': torch.FloatTensor(labels)\n",
    "        }\n",
    "\n",
    "train_dataset = LlamaClassificationDataset(train_df, tokenizer)\n",
    "val_dataset = LlamaClassificationDataset(val_df, tokenizer)"
   ]
  },
  {
   "cell_type": "code",
   "execution_count": 142,
   "id": "394665c9-237f-4404-ab6c-a2f3880c1660",
   "metadata": {
    "execution": {
     "iopub.execute_input": "2025-05-17T20:19:06.062202Z",
     "iopub.status.busy": "2025-05-17T20:19:06.061231Z",
     "iopub.status.idle": "2025-05-17T20:19:06.104806Z",
     "shell.execute_reply": "2025-05-17T20:19:06.103928Z",
     "shell.execute_reply.started": "2025-05-17T20:19:06.062164Z"
    },
    "tags": []
   },
   "outputs": [],
   "source": [
    "def get_linear_schedule_with_warmup(optimizer, num_warmup_steps, num_training_steps, last_epoch=-1):\n",
    "    def lr_lambda(current_step):\n",
    "        if current_step < num_warmup_steps:\n",
    "            return float(current_step) / float(max(1, num_warmup_steps))\n",
    "        return max(\n",
    "            0.0, float(num_training_steps - current_step) / float(max(1, num_training_steps - num_warmup_steps))\n",
    "        )\n",
    "    return LambdaLR(optimizer, lr_lambda, last_epoch)\n",
    "\n",
    "\n",
    "class CustomTrainer(Trainer):\n",
    "    def __init__(self, *args, **kwargs):\n",
    "        super().__init__(*args, **kwargs)\n",
    "        self.best_metric = -np.inf\n",
    "        self.early_stopping_patience = 3\n",
    "        self.no_improvement_count = 0\n",
    "\n",
    "    def compute_loss(self, model, inputs, return_outputs=False):\n",
    "        labels = inputs.pop(\"labels\")\n",
    "        outputs = model(**inputs)\n",
    "        logits = outputs.logits\n",
    "\n",
    "        # Свитч между loss функциями\n",
    "        loss_fct = torch.nn.BCEWithLogitsLoss()\n",
    "        loss = loss_fct(logits.view(-1, self.model.config.num_labels),\n",
    "                       labels.float().view(-1, self.model.config.num_labels))\n",
    "\n",
    "        return (loss, outputs) if return_outputs else loss\n",
    "\n",
    "    def evaluation_step(self, model, inputs):\n",
    "        inputs = self._prepare_inputs(inputs)\n",
    "        with torch.no_grad():\n",
    "            loss, outputs = self.compute_loss(model, inputs, return_outputs=True)\n",
    "        logits = outputs.logits\n",
    "        preds = (torch.sigmoid(logits) > 0.5).int()\n",
    "        return {\"loss\": loss, \"preds\": preds, \"labels\": inputs[\"labels\"]}\n",
    "\n",
    "    def evaluate(self, eval_dataset=None, ignore_keys=None):\n",
    "        eval_output = super().evaluate(eval_dataset, ignore_keys)\n",
    "\n",
    "        preds = torch.cat([x[\"preds\"] for x in eval_output.predictions])\n",
    "        labels = torch.cat([x[\"labels\"] for x in eval_output.predictions])\n",
    "\n",
    "        macro_f1 = f1_score(labels.cpu(), preds.cpu(), average=\"macro\")\n",
    "        accuracy = accuracy_score(labels.cpu(), preds.cpu())\n",
    "\n",
    "        eval_output.metrics.update({\n",
    "            \"eval_macro_f1\": macro_f1,\n",
    "            \"eval_accuracy\": accuracy\n",
    "        })\n",
    "\n",
    "        # Ранняя остановка по macro F1\n",
    "        if macro_f1 > self.best_metric:\n",
    "            self.best_metric = macro_f1\n",
    "            self.no_improvement_count = 0\n",
    "            self.save_model(os.path.join(self.args.output_dir, \"best_model\"))\n",
    "        else:\n",
    "            self.no_improvement_count += 1\n",
    "            if self.no_improvement_count >= self.early_stopping_patience:\n",
    "                self.control.should_training_stop = True\n",
    "\n",
    "        return eval_output"
   ]
  },
  {
   "cell_type": "code",
   "execution_count": 152,
   "id": "a0251d95-857c-45ac-ae4b-2409f2fb3a43",
   "metadata": {
    "execution": {
     "iopub.execute_input": "2025-05-17T20:26:38.004485Z",
     "iopub.status.busy": "2025-05-17T20:26:38.003304Z",
     "iopub.status.idle": "2025-05-17T20:26:39.102080Z",
     "shell.execute_reply": "2025-05-17T20:26:39.101130Z",
     "shell.execute_reply.started": "2025-05-17T20:26:38.004413Z"
    },
    "tags": []
   },
   "outputs": [
    {
     "ename": "AttributeError",
     "evalue": "'Llama' object has no attribute 'parameters'",
     "output_type": "error",
     "traceback": [
      "\u001b[0;31m---------------------------------------------------------------------------\u001b[0m",
      "\u001b[0;31mAttributeError\u001b[0m                            Traceback (most recent call last)",
      "\u001b[0;32m/tmp/ipykernel_6287/726889244.py\u001b[0m in \u001b[0;36m<cell line: 35>\u001b[0;34m()\u001b[0m\n\u001b[1;32m     43\u001b[0m     },\n\u001b[1;32m     44\u001b[0m     optimizers=(None, get_linear_schedule_with_warmup(\n\u001b[0;32m---> 45\u001b[0;31m         \u001b[0moptimizer\u001b[0m\u001b[0;34m=\u001b[0m\u001b[0mtorch\u001b[0m\u001b[0;34m.\u001b[0m\u001b[0moptim\u001b[0m\u001b[0;34m.\u001b[0m\u001b[0mAdamW\u001b[0m\u001b[0;34m(\u001b[0m\u001b[0mllm\u001b[0m\u001b[0;34m.\u001b[0m\u001b[0mparameters\u001b[0m\u001b[0;34m(\u001b[0m\u001b[0;34m)\u001b[0m\u001b[0;34m,\u001b[0m \u001b[0mlr\u001b[0m\u001b[0;34m=\u001b[0m\u001b[0;36m3e-5\u001b[0m\u001b[0;34m)\u001b[0m\u001b[0;34m,\u001b[0m\u001b[0;34m\u001b[0m\u001b[0;34m\u001b[0m\u001b[0m\n\u001b[0m\u001b[1;32m     46\u001b[0m         \u001b[0mnum_warmup_steps\u001b[0m\u001b[0;34m=\u001b[0m\u001b[0mwarmup_steps\u001b[0m\u001b[0;34m,\u001b[0m\u001b[0;34m\u001b[0m\u001b[0;34m\u001b[0m\u001b[0m\n\u001b[1;32m     47\u001b[0m         \u001b[0mnum_training_steps\u001b[0m\u001b[0;34m=\u001b[0m\u001b[0mtotal_steps\u001b[0m\u001b[0;34m\u001b[0m\u001b[0;34m\u001b[0m\u001b[0m\n",
      "\u001b[0;31mAttributeError\u001b[0m: 'Llama' object has no attribute 'parameters'"
     ]
    }
   ],
   "source": [
    "def prepare_prompt(text, labels=None):\n",
    "    labels_str = \" \".join(map(str, labels)) if labels else \"\"\n",
    "    \n",
    "    prompt = f\"\"\"<s>[INST] Классифицируй текст по меткам:\n",
    "Текст: {text}\n",
    "Метки: {labels_str} [/INST]\"\"\"\n",
    "    return prompt\n",
    "\n",
    "train_prompts = [prepare_prompt(row['text'], row['labels']) \n",
    "                for _, row in train_df.iterrows()]\n",
    "total_steps = len(train_prompts) * 5 // 2  # epochs * len(dataset) // batch_size\n",
    "warmup_steps = int(0.1 * total_steps)\n",
    "\n",
    "# training_args = TrainingArguments(\n",
    "#     output_dir=\"./mistral-finetuned\",\n",
    "#     learning_rate=3e-5,\n",
    "#     num_train_epochs=5,\n",
    "#     per_device_train_batch_size=2,\n",
    "#     per_device_eval_batch_size=2,\n",
    "#     gradient_accumulation_steps=4,\n",
    "#     optim=\"adamw_torch\",\n",
    "#     fp16=True,\n",
    "#     logging_steps=10,\n",
    "#     save_steps=500,\n",
    "#     eval_strategy=\"steps\",\n",
    "#     eval_steps=100,\n",
    "#     load_best_model_at_end=True,\n",
    "#     metric_for_best_model=\"eval_macro_f1\",\n",
    "#     greater_is_better=True,\n",
    "#     warmup_steps=warmup_steps,  # Вормап\n",
    "#     lr_scheduler_type=\"linear\",  # Шедулер\n",
    "#     save_total_limit=2,\n",
    "# )\n",
    "\n",
    "trainer = CustomTrainer(\n",
    "    model=llm,\n",
    "    # args=training_args,\n",
    "    train_dataset=train_dataset,\n",
    "    eval_dataset=val_dataset,\n",
    "    compute_metrics=lambda p: {\n",
    "        \"macro_f1\": f1_score(p.label_ids, p.predictions > 0.5, average=\"macro\"),  # Изменено\n",
    "        \"accuracy\": accuracy_score(p.label_ids, p.predictions > 0.5)\n",
    "    },\n",
    "    optimizers=(None, get_linear_schedule_with_warmup(\n",
    "        optimizer=torch.optim.AdamW(llm.parameters(), lr=3e-5),\n",
    "        num_warmup_steps=warmup_steps,\n",
    "        num_training_steps=total_steps\n",
    "    ))\n",
    ")\n",
    "\n",
    "trainer.train()\n",
    "\n",
    "best_model = AutoModelForCausalLM.from_pretrained(\n",
    "    os.path.join(training_args.output_dir, \"best_model\"),\n",
    "    torch_dtype=torch.float16,\n",
    "    device_map=\"auto\",\n",
    "    load_in_4bit=True  # Квантование для экономии памяти\n",
    "\n",
    ")"
   ]
  },
  {
   "cell_type": "code",
   "execution_count": null,
   "id": "2950f0cb-6b38-4a7d-b22c-14d889d8a1c0",
   "metadata": {},
   "outputs": [],
   "source": []
  },
  {
   "cell_type": "code",
   "execution_count": null,
   "id": "dad9ef4a-60b1-4b53-9280-77df87da5908",
   "metadata": {},
   "outputs": [],
   "source": []
  },
  {
   "cell_type": "code",
   "execution_count": null,
   "id": "f2453666-5681-41e3-a709-5854918a105f",
   "metadata": {},
   "outputs": [],
   "source": []
  },
  {
   "cell_type": "markdown",
   "id": "039767c2-4e2b-4972-9320-073ff17499b3",
   "metadata": {},
   "source": [
    "# Сохранение предсказаний в submission с настройкой порога для предсказаний"
   ]
  },
  {
   "cell_type": "code",
   "execution_count": 162,
   "id": "da186d57-c72d-4a30-9ded-6fe443a52d57",
   "metadata": {
    "execution": {
     "iopub.execute_input": "2025-05-17T20:38:04.147140Z",
     "iopub.status.busy": "2025-05-17T20:38:04.146276Z",
     "iopub.status.idle": "2025-05-17T20:38:09.406996Z",
     "shell.execute_reply": "2025-05-17T20:38:09.406232Z",
     "shell.execute_reply.started": "2025-05-17T20:38:04.147110Z"
    },
    "tags": []
   },
   "outputs": [
    {
     "name": "stdout",
     "output_type": "stream",
     "text": [
      "185/185 [==============================] - 0s 1ms/step\n",
      "Best threshold: 0.30, F1-score: 0.8188\n",
      "231/231 [==============================] - 0s 1ms/step\n"
     ]
    }
   ],
   "source": [
    "from sklearn.metrics import f1_score\n",
    "\n",
    "val_probs = tfidf_nn.predict(\n",
    "    X_val_tfidf.toarray()\n",
    ")\n",
    "\n",
    "thresholds = np.arange(0.1, 0.9, 0.05)\n",
    "best_threshold = 0.5\n",
    "best_f1 = 0\n",
    "\n",
    "for threshold in thresholds:\n",
    "    binary_preds = (val_probs > threshold).astype(int)\n",
    "    \n",
    "    current_f1 = f1_score(y_val, binary_preds, average='macro')\n",
    "    \n",
    "    if current_f1 > best_f1:\n",
    "        best_f1 = current_f1\n",
    "        best_threshold = threshold\n",
    "\n",
    "print(f'Best threshold: {best_threshold:.2f}, F1-score: {best_f1:.4f}')\n",
    "\n",
    "X_test_tfidf = tfidf.transform(test_df['text'].apply(tfidf_clean))\n",
    "\n",
    "test_probs = tfidf_nn.predict(X_test_tfidf.toarray())\n",
    "final_predictions = (test_probs > best_threshold).astype(int)\n",
    "\n",
    "test_df['labels'] = [' '.join(map(str, pred)) for pred in final_predictions]\n",
    "\n",
    "submission_df = test_df[['id', 'labels']]  \n",
    "submission_df.to_csv('submission.csv', index=False)"
   ]
  },
  {
   "cell_type": "code",
   "execution_count": null,
   "id": "ee0b89f7-2a45-4254-bc63-9d9c225783d2",
   "metadata": {},
   "outputs": [],
   "source": [
    "# X_test_tfidf = tfidf.transform(test_df['text'].apply(tfidf_clean))\n",
    "\n",
    "# test_predictions = tfidf_nn.predict(X_test_tfidf.toarray())\n",
    "\n",
    "# binary_predictions = (test_predictions > 0.25).astype(int)\n",
    "\n",
    "# test_df['labels'] = [' '.join(map(str, pred)) for pred in binary_predictions]\n",
    "\n",
    "# submission_df = test_df[['id', 'labels']]  \n",
    "# submission_df.to_csv('submission.csv', index=False)"
   ]
  }
 ],
 "metadata": {
  "kernelspec": {
   "display_name": "Python 3 (ipykernel)",
   "language": "python",
   "name": "python3"
  },
  "language_info": {
   "codemirror_mode": {
    "name": "ipython",
    "version": 3
   },
   "file_extension": ".py",
   "mimetype": "text/x-python",
   "name": "python",
   "nbconvert_exporter": "python",
   "pygments_lexer": "ipython3",
   "version": "3.11.7"
  }
 },
 "nbformat": 4,
 "nbformat_minor": 5
}
